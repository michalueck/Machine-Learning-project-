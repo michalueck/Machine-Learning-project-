{
 "cells": [
  {
   "cell_type": "markdown",
   "metadata": {},
   "source": [
    "### Identifying Fraud from the Enron Dataset"
   ]
  },
  {
   "cell_type": "markdown",
   "metadata": {},
   "source": [
    "To prepare the project I worked in Jupyter Notebook and therefore I have hidden the code."
   ]
  },
  {
   "cell_type": "markdown",
   "metadata": {
    "collapsed": false
   },
   "source": [
    "%%html\n",
    "<style>\n",
    "div.input {\n",
    "    display:none;\n",
    "}\n",
    "</style>"
   ]
  },
  {
   "cell_type": "markdown",
   "metadata": {},
   "source": [
    "written by Michaela Lueck \n",
    "\n",
    "The Enron Corporation was an American energy, commodities and services company based in Huston/Tx, USA. Enron employed about 29,000 staff with claimed revenues of nearly $101 billion during 2000.\n",
    "\n",
    "In 2001 it was revealed that Enron's reported financial condition was sustained by institutionalized, systematic and creatively planned accounting fraud. This lead to the company's bancrupcy on Dec3 2001. This is know as the Enron Scandal (documentary on youtube: the smartest guys in the room). Legal investigations were raised, for example on an Insider Trading Scandal. Excecutives have sold their shares and the price of Enron began to decrese. Furthermore, Enron was responsible for the crisis of the California Engery market (which in fact lead to black-outs). Many shareholders and employees had enormous financial loss. \n",
    "\n",
    "During the legal investigation lots of data found the way into public, therefore the excercise of this project will be based on real data and a real question. This project can be seen as my personal investigation on the widespread corporate fraud. \n",
    "\n",
    "(source: Wikipedia) \n",
    "\n",
    "First I will investigate the data on characteristics, f.e. is a person a person of interest (POI), I will check on the features and the amount of data points. After an analyis of the data I will add a new feature to the data and do a scaling. And I will check if there are outliers or strange datapoints. Next step will be to work on an algorithmus (train and test). Validation and Evaluation will be shown, how good is the performance of the final algorithm choosen. \n",
    "\n",
    "\n",
    "A \"Person Of Interest\" is defined in the scope of this project as:\n",
    "\n",
    "    someone who was indicted, or\n",
    "    someone who settled without admitting guilt, or\n",
    "    someone who testified in exchange for immunity.\n",
    "    \n",
    "I prepared this project with jupyter notebook for Pyhton 3 and therefore had to modify the given codes by Udacity a tiny bit. For example the print call needs parenthesis and the pickle files need to be open in read and write mode as otherwise an error message is thrown.     \n"
   ]
  },
  {
   "cell_type": "code",
   "execution_count": 1,
   "metadata": {
    "collapsed": false,
    "scrolled": false
   },
   "outputs": [
    {
     "name": "stderr",
     "output_type": "stream",
     "text": [
      "C:\\ProgramData\\Anaconda3\\lib\\site-packages\\sklearn\\cross_validation.py:44: DeprecationWarning: This module was deprecated in version 0.18 in favor of the model_selection module into which all the refactored classes and functions are moved. Also note that the interface of the new CV iterators are different from that of this module. This module will be removed in 0.20.\n",
      "  \"This module will be removed in 0.20.\", DeprecationWarning)\n"
     ]
    }
   ],
   "source": [
    "import sys\n",
    "import pickle\n",
    "import pandas as pd \n",
    "sys.path.append(\"../tools/\")\n",
    "\n",
    "import pandas as pd\n",
    "import matplotlib.pyplot as plt\n",
    "import seaborn as sns\n",
    "import numpy as np\n",
    "\n",
    "from feature_format import featureFormat, targetFeatureSplit\n",
    "from tester import dump_classifier_and_data\n",
    "\n",
    "pd.set_option('display.max_columns', None)\n",
    "\n",
    "### Task 1: Select what features you'll use.\n",
    "### features_list is a list of strings, each of which is a feature name.\n",
    "### The first feature must be \"poi\".\n",
    "#features_list = ['poi','salary', 'to_messages','deferral_payments','total_payments', 'loan_advances','bonus', 'email_adress', 'restricted_stock_deferred', 'deferred_income', 'total_stock_value', 'expenses','from_poi_to_this_person', 'exercised_stock_options', 'from_messages','other', 'from_this_person_to_poi', 'long_term_incentive', 'shared_receipt_with_poi', 'restricted_stock', 'director_fees'] # You will need to use more features\n",
    "\n",
    "### Load the dictionary containing the dataset\n",
    "with open(\"final_project_dataset.pkl\", \"rb\") as data_file:\n",
    "    data_dict = pickle.load(data_file)\n",
    "# converting into a data frame for better investigation\n",
    "df = pd.DataFrame.from_dict(data_dict, orient='index')\n",
    "\n"
   ]
  },
  {
   "cell_type": "markdown",
   "metadata": {},
   "source": [
    "## Overview - Description of the Data"
   ]
  },
  {
   "cell_type": "code",
   "execution_count": 2,
   "metadata": {
    "collapsed": false
   },
   "outputs": [
    {
     "data": {
      "text/html": [
       "<div>\n",
       "<table border=\"1\" class=\"dataframe\">\n",
       "  <thead>\n",
       "    <tr style=\"text-align: right;\">\n",
       "      <th></th>\n",
       "      <th>salary</th>\n",
       "      <th>to_messages</th>\n",
       "      <th>deferral_payments</th>\n",
       "      <th>total_payments</th>\n",
       "      <th>loan_advances</th>\n",
       "      <th>bonus</th>\n",
       "      <th>email_address</th>\n",
       "      <th>restricted_stock_deferred</th>\n",
       "      <th>deferred_income</th>\n",
       "      <th>total_stock_value</th>\n",
       "      <th>expenses</th>\n",
       "      <th>from_poi_to_this_person</th>\n",
       "      <th>exercised_stock_options</th>\n",
       "      <th>from_messages</th>\n",
       "      <th>other</th>\n",
       "      <th>from_this_person_to_poi</th>\n",
       "      <th>poi</th>\n",
       "      <th>long_term_incentive</th>\n",
       "      <th>shared_receipt_with_poi</th>\n",
       "      <th>restricted_stock</th>\n",
       "      <th>director_fees</th>\n",
       "    </tr>\n",
       "  </thead>\n",
       "  <tbody>\n",
       "    <tr>\n",
       "      <th>ALLEN PHILLIP K</th>\n",
       "      <td>201955</td>\n",
       "      <td>2902</td>\n",
       "      <td>2869717</td>\n",
       "      <td>4484442</td>\n",
       "      <td>NaN</td>\n",
       "      <td>4175000</td>\n",
       "      <td>phillip.allen@enron.com</td>\n",
       "      <td>-126027</td>\n",
       "      <td>-3081055</td>\n",
       "      <td>1729541</td>\n",
       "      <td>13868</td>\n",
       "      <td>47</td>\n",
       "      <td>1729541</td>\n",
       "      <td>2195</td>\n",
       "      <td>152</td>\n",
       "      <td>65</td>\n",
       "      <td>False</td>\n",
       "      <td>304805</td>\n",
       "      <td>1407</td>\n",
       "      <td>126027</td>\n",
       "      <td>NaN</td>\n",
       "    </tr>\n",
       "    <tr>\n",
       "      <th>BADUM JAMES P</th>\n",
       "      <td>NaN</td>\n",
       "      <td>NaN</td>\n",
       "      <td>178980</td>\n",
       "      <td>182466</td>\n",
       "      <td>NaN</td>\n",
       "      <td>NaN</td>\n",
       "      <td>NaN</td>\n",
       "      <td>NaN</td>\n",
       "      <td>NaN</td>\n",
       "      <td>257817</td>\n",
       "      <td>3486</td>\n",
       "      <td>NaN</td>\n",
       "      <td>257817</td>\n",
       "      <td>NaN</td>\n",
       "      <td>NaN</td>\n",
       "      <td>NaN</td>\n",
       "      <td>False</td>\n",
       "      <td>NaN</td>\n",
       "      <td>NaN</td>\n",
       "      <td>NaN</td>\n",
       "      <td>NaN</td>\n",
       "    </tr>\n",
       "    <tr>\n",
       "      <th>BANNANTINE JAMES M</th>\n",
       "      <td>477</td>\n",
       "      <td>566</td>\n",
       "      <td>NaN</td>\n",
       "      <td>916197</td>\n",
       "      <td>NaN</td>\n",
       "      <td>NaN</td>\n",
       "      <td>james.bannantine@enron.com</td>\n",
       "      <td>-560222</td>\n",
       "      <td>-5104</td>\n",
       "      <td>5243487</td>\n",
       "      <td>56301</td>\n",
       "      <td>39</td>\n",
       "      <td>4046157</td>\n",
       "      <td>29</td>\n",
       "      <td>864523</td>\n",
       "      <td>0</td>\n",
       "      <td>False</td>\n",
       "      <td>NaN</td>\n",
       "      <td>465</td>\n",
       "      <td>1757552</td>\n",
       "      <td>NaN</td>\n",
       "    </tr>\n",
       "    <tr>\n",
       "      <th>BAXTER JOHN C</th>\n",
       "      <td>267102</td>\n",
       "      <td>NaN</td>\n",
       "      <td>1295738</td>\n",
       "      <td>5634343</td>\n",
       "      <td>NaN</td>\n",
       "      <td>1200000</td>\n",
       "      <td>NaN</td>\n",
       "      <td>NaN</td>\n",
       "      <td>-1386055</td>\n",
       "      <td>10623258</td>\n",
       "      <td>11200</td>\n",
       "      <td>NaN</td>\n",
       "      <td>6680544</td>\n",
       "      <td>NaN</td>\n",
       "      <td>2660303</td>\n",
       "      <td>NaN</td>\n",
       "      <td>False</td>\n",
       "      <td>1586055</td>\n",
       "      <td>NaN</td>\n",
       "      <td>3942714</td>\n",
       "      <td>NaN</td>\n",
       "    </tr>\n",
       "    <tr>\n",
       "      <th>BAY FRANKLIN R</th>\n",
       "      <td>239671</td>\n",
       "      <td>NaN</td>\n",
       "      <td>260455</td>\n",
       "      <td>827696</td>\n",
       "      <td>NaN</td>\n",
       "      <td>400000</td>\n",
       "      <td>frank.bay@enron.com</td>\n",
       "      <td>-82782</td>\n",
       "      <td>-201641</td>\n",
       "      <td>63014</td>\n",
       "      <td>129142</td>\n",
       "      <td>NaN</td>\n",
       "      <td>NaN</td>\n",
       "      <td>NaN</td>\n",
       "      <td>69</td>\n",
       "      <td>NaN</td>\n",
       "      <td>False</td>\n",
       "      <td>NaN</td>\n",
       "      <td>NaN</td>\n",
       "      <td>145796</td>\n",
       "      <td>NaN</td>\n",
       "    </tr>\n",
       "  </tbody>\n",
       "</table>\n",
       "</div>"
      ],
      "text/plain": [
       "                    salary to_messages deferral_payments total_payments  \\\n",
       "ALLEN PHILLIP K     201955        2902           2869717        4484442   \n",
       "BADUM JAMES P          NaN         NaN            178980         182466   \n",
       "BANNANTINE JAMES M     477         566               NaN         916197   \n",
       "BAXTER JOHN C       267102         NaN           1295738        5634343   \n",
       "BAY FRANKLIN R      239671         NaN            260455         827696   \n",
       "\n",
       "                   loan_advances    bonus               email_address  \\\n",
       "ALLEN PHILLIP K              NaN  4175000     phillip.allen@enron.com   \n",
       "BADUM JAMES P                NaN      NaN                         NaN   \n",
       "BANNANTINE JAMES M           NaN      NaN  james.bannantine@enron.com   \n",
       "BAXTER JOHN C                NaN  1200000                         NaN   \n",
       "BAY FRANKLIN R               NaN   400000         frank.bay@enron.com   \n",
       "\n",
       "                   restricted_stock_deferred deferred_income  \\\n",
       "ALLEN PHILLIP K                      -126027        -3081055   \n",
       "BADUM JAMES P                            NaN             NaN   \n",
       "BANNANTINE JAMES M                   -560222           -5104   \n",
       "BAXTER JOHN C                            NaN        -1386055   \n",
       "BAY FRANKLIN R                        -82782         -201641   \n",
       "\n",
       "                   total_stock_value expenses from_poi_to_this_person  \\\n",
       "ALLEN PHILLIP K              1729541    13868                      47   \n",
       "BADUM JAMES P                 257817     3486                     NaN   \n",
       "BANNANTINE JAMES M           5243487    56301                      39   \n",
       "BAXTER JOHN C               10623258    11200                     NaN   \n",
       "BAY FRANKLIN R                 63014   129142                     NaN   \n",
       "\n",
       "                   exercised_stock_options from_messages    other  \\\n",
       "ALLEN PHILLIP K                    1729541          2195      152   \n",
       "BADUM JAMES P                       257817           NaN      NaN   \n",
       "BANNANTINE JAMES M                 4046157            29   864523   \n",
       "BAXTER JOHN C                      6680544           NaN  2660303   \n",
       "BAY FRANKLIN R                         NaN           NaN       69   \n",
       "\n",
       "                   from_this_person_to_poi    poi long_term_incentive  \\\n",
       "ALLEN PHILLIP K                         65  False              304805   \n",
       "BADUM JAMES P                          NaN  False                 NaN   \n",
       "BANNANTINE JAMES M                       0  False                 NaN   \n",
       "BAXTER JOHN C                          NaN  False             1586055   \n",
       "BAY FRANKLIN R                         NaN  False                 NaN   \n",
       "\n",
       "                   shared_receipt_with_poi restricted_stock director_fees  \n",
       "ALLEN PHILLIP K                       1407           126027           NaN  \n",
       "BADUM JAMES P                          NaN              NaN           NaN  \n",
       "BANNANTINE JAMES M                     465          1757552           NaN  \n",
       "BAXTER JOHN C                          NaN          3942714           NaN  \n",
       "BAY FRANKLIN R                         NaN           145796           NaN  "
      ]
     },
     "execution_count": 2,
     "metadata": {},
     "output_type": "execute_result"
    }
   ],
   "source": [
    "df.head()\n"
   ]
  },
  {
   "cell_type": "code",
   "execution_count": 3,
   "metadata": {
    "collapsed": false,
    "scrolled": true
   },
   "outputs": [
    {
     "name": "stdout",
     "output_type": "stream",
     "text": [
      "<class 'pandas.core.frame.DataFrame'>\n",
      "Index: 146 entries, ALLEN PHILLIP K to YEAP SOON\n",
      "Data columns (total 21 columns):\n",
      "salary                       146 non-null object\n",
      "to_messages                  146 non-null object\n",
      "deferral_payments            146 non-null object\n",
      "total_payments               146 non-null object\n",
      "loan_advances                146 non-null object\n",
      "bonus                        146 non-null object\n",
      "email_address                146 non-null object\n",
      "restricted_stock_deferred    146 non-null object\n",
      "deferred_income              146 non-null object\n",
      "total_stock_value            146 non-null object\n",
      "expenses                     146 non-null object\n",
      "from_poi_to_this_person      146 non-null object\n",
      "exercised_stock_options      146 non-null object\n",
      "from_messages                146 non-null object\n",
      "other                        146 non-null object\n",
      "from_this_person_to_poi      146 non-null object\n",
      "poi                          146 non-null bool\n",
      "long_term_incentive          146 non-null object\n",
      "shared_receipt_with_poi      146 non-null object\n",
      "restricted_stock             146 non-null object\n",
      "director_fees                146 non-null object\n",
      "dtypes: bool(1), object(20)\n",
      "memory usage: 12.1+ KB\n"
     ]
    }
   ],
   "source": [
    "df.info()\n"
   ]
  },
  {
   "cell_type": "markdown",
   "metadata": {},
   "source": [
    "The dataset is arrange as a dictionary (Key and Value pairs.)Keys are the names of the people and values are a dictionary which contains the variable information to that person. "
   ]
  },
  {
   "cell_type": "code",
   "execution_count": 4,
   "metadata": {
    "collapsed": false,
    "scrolled": true
   },
   "outputs": [
    {
     "data": {
      "text/html": [
       "<div>\n",
       "<table border=\"1\" class=\"dataframe\">\n",
       "  <thead>\n",
       "    <tr style=\"text-align: right;\">\n",
       "      <th></th>\n",
       "      <th>count</th>\n",
       "      <th>unique</th>\n",
       "      <th>top</th>\n",
       "      <th>freq</th>\n",
       "    </tr>\n",
       "  </thead>\n",
       "  <tbody>\n",
       "    <tr>\n",
       "      <th>salary</th>\n",
       "      <td>146</td>\n",
       "      <td>95</td>\n",
       "      <td>NaN</td>\n",
       "      <td>51</td>\n",
       "    </tr>\n",
       "    <tr>\n",
       "      <th>to_messages</th>\n",
       "      <td>146</td>\n",
       "      <td>87</td>\n",
       "      <td>NaN</td>\n",
       "      <td>60</td>\n",
       "    </tr>\n",
       "    <tr>\n",
       "      <th>deferral_payments</th>\n",
       "      <td>146</td>\n",
       "      <td>40</td>\n",
       "      <td>NaN</td>\n",
       "      <td>107</td>\n",
       "    </tr>\n",
       "    <tr>\n",
       "      <th>total_payments</th>\n",
       "      <td>146</td>\n",
       "      <td>126</td>\n",
       "      <td>NaN</td>\n",
       "      <td>21</td>\n",
       "    </tr>\n",
       "    <tr>\n",
       "      <th>loan_advances</th>\n",
       "      <td>146</td>\n",
       "      <td>5</td>\n",
       "      <td>NaN</td>\n",
       "      <td>142</td>\n",
       "    </tr>\n",
       "    <tr>\n",
       "      <th>bonus</th>\n",
       "      <td>146</td>\n",
       "      <td>42</td>\n",
       "      <td>NaN</td>\n",
       "      <td>64</td>\n",
       "    </tr>\n",
       "    <tr>\n",
       "      <th>email_address</th>\n",
       "      <td>146</td>\n",
       "      <td>112</td>\n",
       "      <td>NaN</td>\n",
       "      <td>35</td>\n",
       "    </tr>\n",
       "    <tr>\n",
       "      <th>restricted_stock_deferred</th>\n",
       "      <td>146</td>\n",
       "      <td>19</td>\n",
       "      <td>NaN</td>\n",
       "      <td>128</td>\n",
       "    </tr>\n",
       "    <tr>\n",
       "      <th>deferred_income</th>\n",
       "      <td>146</td>\n",
       "      <td>45</td>\n",
       "      <td>NaN</td>\n",
       "      <td>97</td>\n",
       "    </tr>\n",
       "    <tr>\n",
       "      <th>total_stock_value</th>\n",
       "      <td>146</td>\n",
       "      <td>125</td>\n",
       "      <td>NaN</td>\n",
       "      <td>20</td>\n",
       "    </tr>\n",
       "    <tr>\n",
       "      <th>expenses</th>\n",
       "      <td>146</td>\n",
       "      <td>95</td>\n",
       "      <td>NaN</td>\n",
       "      <td>51</td>\n",
       "    </tr>\n",
       "    <tr>\n",
       "      <th>from_poi_to_this_person</th>\n",
       "      <td>146</td>\n",
       "      <td>58</td>\n",
       "      <td>NaN</td>\n",
       "      <td>60</td>\n",
       "    </tr>\n",
       "    <tr>\n",
       "      <th>exercised_stock_options</th>\n",
       "      <td>146</td>\n",
       "      <td>102</td>\n",
       "      <td>NaN</td>\n",
       "      <td>44</td>\n",
       "    </tr>\n",
       "    <tr>\n",
       "      <th>from_messages</th>\n",
       "      <td>146</td>\n",
       "      <td>65</td>\n",
       "      <td>NaN</td>\n",
       "      <td>60</td>\n",
       "    </tr>\n",
       "    <tr>\n",
       "      <th>other</th>\n",
       "      <td>146</td>\n",
       "      <td>93</td>\n",
       "      <td>NaN</td>\n",
       "      <td>53</td>\n",
       "    </tr>\n",
       "    <tr>\n",
       "      <th>from_this_person_to_poi</th>\n",
       "      <td>146</td>\n",
       "      <td>42</td>\n",
       "      <td>NaN</td>\n",
       "      <td>60</td>\n",
       "    </tr>\n",
       "    <tr>\n",
       "      <th>poi</th>\n",
       "      <td>146</td>\n",
       "      <td>2</td>\n",
       "      <td>False</td>\n",
       "      <td>128</td>\n",
       "    </tr>\n",
       "    <tr>\n",
       "      <th>long_term_incentive</th>\n",
       "      <td>146</td>\n",
       "      <td>53</td>\n",
       "      <td>NaN</td>\n",
       "      <td>80</td>\n",
       "    </tr>\n",
       "    <tr>\n",
       "      <th>shared_receipt_with_poi</th>\n",
       "      <td>146</td>\n",
       "      <td>84</td>\n",
       "      <td>NaN</td>\n",
       "      <td>60</td>\n",
       "    </tr>\n",
       "    <tr>\n",
       "      <th>restricted_stock</th>\n",
       "      <td>146</td>\n",
       "      <td>98</td>\n",
       "      <td>NaN</td>\n",
       "      <td>36</td>\n",
       "    </tr>\n",
       "    <tr>\n",
       "      <th>director_fees</th>\n",
       "      <td>146</td>\n",
       "      <td>18</td>\n",
       "      <td>NaN</td>\n",
       "      <td>129</td>\n",
       "    </tr>\n",
       "  </tbody>\n",
       "</table>\n",
       "</div>"
      ],
      "text/plain": [
       "                          count unique    top freq\n",
       "salary                      146     95    NaN   51\n",
       "to_messages                 146     87    NaN   60\n",
       "deferral_payments           146     40    NaN  107\n",
       "total_payments              146    126    NaN   21\n",
       "loan_advances               146      5    NaN  142\n",
       "bonus                       146     42    NaN   64\n",
       "email_address               146    112    NaN   35\n",
       "restricted_stock_deferred   146     19    NaN  128\n",
       "deferred_income             146     45    NaN   97\n",
       "total_stock_value           146    125    NaN   20\n",
       "expenses                    146     95    NaN   51\n",
       "from_poi_to_this_person     146     58    NaN   60\n",
       "exercised_stock_options     146    102    NaN   44\n",
       "from_messages               146     65    NaN   60\n",
       "other                       146     93    NaN   53\n",
       "from_this_person_to_poi     146     42    NaN   60\n",
       "poi                         146      2  False  128\n",
       "long_term_incentive         146     53    NaN   80\n",
       "shared_receipt_with_poi     146     84    NaN   60\n",
       "restricted_stock            146     98    NaN   36\n",
       "director_fees               146     18    NaN  129"
      ]
     },
     "execution_count": 4,
     "metadata": {},
     "output_type": "execute_result"
    }
   ],
   "source": [
    "df.describe().transpose()"
   ]
  },
  {
   "cell_type": "markdown",
   "metadata": {},
   "source": [
    "First I am investigating on the data set. I see we have 146 rows in the data set, a row is related to a person. We have as types one boolean column and 20 object columns. There are columns which contain NaN values. From the documentation I learn that the NaN values for the financial data (payment and stock), the NaN represents a Null. This needs to be fixed. I do not want to drop the NaN values as this would make the data smaller and we know from machine learning that the quality of the machine learning model is proportional to the amount of data fed into it. "
   ]
  },
  {
   "cell_type": "code",
   "execution_count": 5,
   "metadata": {
    "collapsed": false
   },
   "outputs": [
    {
     "name": "stdout",
     "output_type": "stream",
     "text": [
      "There are a total of 146 people in the dataset.\n",
      "Out of which 18 are POI and 128 Non-POI.\n",
      "Total number of email plus financial features are 20. 'poi' column is our label.\n"
     ]
    }
   ],
   "source": [
    "print (\"There are a total of {} people in the dataset.\" .format(len(df.index)))\n",
    "print (\"Out of which {} are POI and {} Non-POI.\" .format(df['poi'].value_counts()[True], \n",
    "                                                 df['poi'].value_counts()[False]))\n",
    "print (\"Total number of email plus financial features are {}. 'poi' column is our label.\"\n",
    ".format(len(df.columns)-1))\n"
   ]
  },
  {
   "cell_type": "code",
   "execution_count": 6,
   "metadata": {
    "collapsed": true
   },
   "outputs": [],
   "source": [
    "financial_features = ['salary', 'deferral_payments', 'total_payments', 'loan_advances', 'bonus', \n",
    "'restricted_stock_deferred', 'deferred_income', 'total_stock_value', 'expenses', \n",
    "'exercised_stock_options', 'other', 'long_term_incentive', 'restricted_stock', \n",
    "'director_fees'] # (Units = USD) "
   ]
  },
  {
   "cell_type": "code",
   "execution_count": 7,
   "metadata": {
    "collapsed": true
   },
   "outputs": [],
   "source": [
    "email_features = ['to_messages', 'email_address', 'from_poi_to_this_person', 'from_messages', \n",
    "'from_this_person_to_poi', 'poi', \n",
    "'shared_receipt_with_poi'] # units = number of emails messages; except ‘email_address’, which is a text string"
   ]
  },
  {
   "cell_type": "markdown",
   "metadata": {},
   "source": [
    "146 observations and 21 variables found in the  dataset - 6 email features, 14 financial features and 1 POI label - and they are divided between 18 POI’s and 128 non-POI’s.\n"
   ]
  },
  {
   "cell_type": "code",
   "execution_count": 8,
   "metadata": {
    "collapsed": false,
    "scrolled": true
   },
   "outputs": [
    {
     "data": {
      "text/plain": [
       "Index(['ALLEN PHILLIP K', 'BADUM JAMES P', 'BANNANTINE JAMES M',\n",
       "       'BAXTER JOHN C', 'BAY FRANKLIN R', 'BAZELIDES PHILIP J', 'BECK SALLY W',\n",
       "       'BELDEN TIMOTHY N', 'BELFER ROBERT', 'BERBERIAN DAVID',\n",
       "       ...\n",
       "       'WASAFF GEORGE', 'WESTFAHL RICHARD K', 'WHALEY DAVID A',\n",
       "       'WHALLEY LAWRENCE G', 'WHITE JR THOMAS E', 'WINOKUR JR. HERBERT S',\n",
       "       'WODRASKA JOHN', 'WROBEL BRUCE', 'YEAGER F SCOTT', 'YEAP SOON'],\n",
       "      dtype='object', length=146)"
      ]
     },
     "execution_count": 8,
     "metadata": {},
     "output_type": "execute_result"
    }
   ],
   "source": [
    "df.index"
   ]
  },
  {
   "cell_type": "markdown",
   "metadata": {},
   "source": [
    "The index is the person's name"
   ]
  },
  {
   "cell_type": "code",
   "execution_count": 9,
   "metadata": {
    "collapsed": false,
    "scrolled": false
   },
   "outputs": [
    {
     "data": {
      "text/plain": [
       "Index(['salary', 'to_messages', 'deferral_payments', 'total_payments',\n",
       "       'loan_advances', 'bonus', 'email_address', 'restricted_stock_deferred',\n",
       "       'deferred_income', 'total_stock_value', 'expenses',\n",
       "       'from_poi_to_this_person', 'exercised_stock_options', 'from_messages',\n",
       "       'other', 'from_this_person_to_poi', 'poi', 'long_term_incentive',\n",
       "       'shared_receipt_with_poi', 'restricted_stock', 'director_fees'],\n",
       "      dtype='object')"
      ]
     },
     "execution_count": 9,
     "metadata": {},
     "output_type": "execute_result"
    }
   ],
   "source": [
    "df.columns"
   ]
  },
  {
   "cell_type": "code",
   "execution_count": 10,
   "metadata": {
    "collapsed": false,
    "scrolled": true
   },
   "outputs": [
    {
     "data": {
      "text/html": [
       "<div>\n",
       "<table border=\"1\" class=\"dataframe\">\n",
       "  <thead>\n",
       "    <tr style=\"text-align: right;\">\n",
       "      <th></th>\n",
       "      <th>salary</th>\n",
       "      <th>to_messages</th>\n",
       "      <th>deferral_payments</th>\n",
       "      <th>total_payments</th>\n",
       "      <th>loan_advances</th>\n",
       "      <th>bonus</th>\n",
       "      <th>email_address</th>\n",
       "      <th>restricted_stock_deferred</th>\n",
       "      <th>deferred_income</th>\n",
       "      <th>total_stock_value</th>\n",
       "      <th>expenses</th>\n",
       "      <th>from_poi_to_this_person</th>\n",
       "      <th>exercised_stock_options</th>\n",
       "      <th>from_messages</th>\n",
       "      <th>other</th>\n",
       "      <th>from_this_person_to_poi</th>\n",
       "      <th>poi</th>\n",
       "      <th>long_term_incentive</th>\n",
       "      <th>shared_receipt_with_poi</th>\n",
       "      <th>restricted_stock</th>\n",
       "      <th>director_fees</th>\n",
       "    </tr>\n",
       "  </thead>\n",
       "  <tbody>\n",
       "    <tr>\n",
       "      <th>ALLEN PHILLIP K</th>\n",
       "      <td>201955</td>\n",
       "      <td>2902</td>\n",
       "      <td>2869717</td>\n",
       "      <td>4484442</td>\n",
       "      <td>NaN</td>\n",
       "      <td>4175000</td>\n",
       "      <td>phillip.allen@enron.com</td>\n",
       "      <td>-126027</td>\n",
       "      <td>-3081055</td>\n",
       "      <td>1729541</td>\n",
       "      <td>13868</td>\n",
       "      <td>47</td>\n",
       "      <td>1729541</td>\n",
       "      <td>2195</td>\n",
       "      <td>152</td>\n",
       "      <td>65</td>\n",
       "      <td>False</td>\n",
       "      <td>304805</td>\n",
       "      <td>1407</td>\n",
       "      <td>126027</td>\n",
       "      <td>NaN</td>\n",
       "    </tr>\n",
       "    <tr>\n",
       "      <th>BADUM JAMES P</th>\n",
       "      <td>NaN</td>\n",
       "      <td>NaN</td>\n",
       "      <td>178980</td>\n",
       "      <td>182466</td>\n",
       "      <td>NaN</td>\n",
       "      <td>NaN</td>\n",
       "      <td>NaN</td>\n",
       "      <td>NaN</td>\n",
       "      <td>NaN</td>\n",
       "      <td>257817</td>\n",
       "      <td>3486</td>\n",
       "      <td>NaN</td>\n",
       "      <td>257817</td>\n",
       "      <td>NaN</td>\n",
       "      <td>NaN</td>\n",
       "      <td>NaN</td>\n",
       "      <td>False</td>\n",
       "      <td>NaN</td>\n",
       "      <td>NaN</td>\n",
       "      <td>NaN</td>\n",
       "      <td>NaN</td>\n",
       "    </tr>\n",
       "    <tr>\n",
       "      <th>BANNANTINE JAMES M</th>\n",
       "      <td>477</td>\n",
       "      <td>566</td>\n",
       "      <td>NaN</td>\n",
       "      <td>916197</td>\n",
       "      <td>NaN</td>\n",
       "      <td>NaN</td>\n",
       "      <td>james.bannantine@enron.com</td>\n",
       "      <td>-560222</td>\n",
       "      <td>-5104</td>\n",
       "      <td>5243487</td>\n",
       "      <td>56301</td>\n",
       "      <td>39</td>\n",
       "      <td>4046157</td>\n",
       "      <td>29</td>\n",
       "      <td>864523</td>\n",
       "      <td>0</td>\n",
       "      <td>False</td>\n",
       "      <td>NaN</td>\n",
       "      <td>465</td>\n",
       "      <td>1757552</td>\n",
       "      <td>NaN</td>\n",
       "    </tr>\n",
       "    <tr>\n",
       "      <th>BAXTER JOHN C</th>\n",
       "      <td>267102</td>\n",
       "      <td>NaN</td>\n",
       "      <td>1295738</td>\n",
       "      <td>5634343</td>\n",
       "      <td>NaN</td>\n",
       "      <td>1200000</td>\n",
       "      <td>NaN</td>\n",
       "      <td>NaN</td>\n",
       "      <td>-1386055</td>\n",
       "      <td>10623258</td>\n",
       "      <td>11200</td>\n",
       "      <td>NaN</td>\n",
       "      <td>6680544</td>\n",
       "      <td>NaN</td>\n",
       "      <td>2660303</td>\n",
       "      <td>NaN</td>\n",
       "      <td>False</td>\n",
       "      <td>1586055</td>\n",
       "      <td>NaN</td>\n",
       "      <td>3942714</td>\n",
       "      <td>NaN</td>\n",
       "    </tr>\n",
       "    <tr>\n",
       "      <th>BAY FRANKLIN R</th>\n",
       "      <td>239671</td>\n",
       "      <td>NaN</td>\n",
       "      <td>260455</td>\n",
       "      <td>827696</td>\n",
       "      <td>NaN</td>\n",
       "      <td>400000</td>\n",
       "      <td>frank.bay@enron.com</td>\n",
       "      <td>-82782</td>\n",
       "      <td>-201641</td>\n",
       "      <td>63014</td>\n",
       "      <td>129142</td>\n",
       "      <td>NaN</td>\n",
       "      <td>NaN</td>\n",
       "      <td>NaN</td>\n",
       "      <td>69</td>\n",
       "      <td>NaN</td>\n",
       "      <td>False</td>\n",
       "      <td>NaN</td>\n",
       "      <td>NaN</td>\n",
       "      <td>145796</td>\n",
       "      <td>NaN</td>\n",
       "    </tr>\n",
       "  </tbody>\n",
       "</table>\n",
       "</div>"
      ],
      "text/plain": [
       "                    salary to_messages deferral_payments total_payments  \\\n",
       "ALLEN PHILLIP K     201955        2902           2869717        4484442   \n",
       "BADUM JAMES P          NaN         NaN            178980         182466   \n",
       "BANNANTINE JAMES M     477         566               NaN         916197   \n",
       "BAXTER JOHN C       267102         NaN           1295738        5634343   \n",
       "BAY FRANKLIN R      239671         NaN            260455         827696   \n",
       "\n",
       "                   loan_advances    bonus               email_address  \\\n",
       "ALLEN PHILLIP K              NaN  4175000     phillip.allen@enron.com   \n",
       "BADUM JAMES P                NaN      NaN                         NaN   \n",
       "BANNANTINE JAMES M           NaN      NaN  james.bannantine@enron.com   \n",
       "BAXTER JOHN C                NaN  1200000                         NaN   \n",
       "BAY FRANKLIN R               NaN   400000         frank.bay@enron.com   \n",
       "\n",
       "                   restricted_stock_deferred deferred_income  \\\n",
       "ALLEN PHILLIP K                      -126027        -3081055   \n",
       "BADUM JAMES P                            NaN             NaN   \n",
       "BANNANTINE JAMES M                   -560222           -5104   \n",
       "BAXTER JOHN C                            NaN        -1386055   \n",
       "BAY FRANKLIN R                        -82782         -201641   \n",
       "\n",
       "                   total_stock_value expenses from_poi_to_this_person  \\\n",
       "ALLEN PHILLIP K              1729541    13868                      47   \n",
       "BADUM JAMES P                 257817     3486                     NaN   \n",
       "BANNANTINE JAMES M           5243487    56301                      39   \n",
       "BAXTER JOHN C               10623258    11200                     NaN   \n",
       "BAY FRANKLIN R                 63014   129142                     NaN   \n",
       "\n",
       "                   exercised_stock_options from_messages    other  \\\n",
       "ALLEN PHILLIP K                    1729541          2195      152   \n",
       "BADUM JAMES P                       257817           NaN      NaN   \n",
       "BANNANTINE JAMES M                 4046157            29   864523   \n",
       "BAXTER JOHN C                      6680544           NaN  2660303   \n",
       "BAY FRANKLIN R                         NaN           NaN       69   \n",
       "\n",
       "                   from_this_person_to_poi    poi long_term_incentive  \\\n",
       "ALLEN PHILLIP K                         65  False              304805   \n",
       "BADUM JAMES P                          NaN  False                 NaN   \n",
       "BANNANTINE JAMES M                       0  False                 NaN   \n",
       "BAXTER JOHN C                          NaN  False             1586055   \n",
       "BAY FRANKLIN R                         NaN  False                 NaN   \n",
       "\n",
       "                   shared_receipt_with_poi restricted_stock director_fees  \n",
       "ALLEN PHILLIP K                       1407           126027           NaN  \n",
       "BADUM JAMES P                          NaN              NaN           NaN  \n",
       "BANNANTINE JAMES M                     465          1757552           NaN  \n",
       "BAXTER JOHN C                          NaN          3942714           NaN  \n",
       "BAY FRANKLIN R                         NaN           145796           NaN  "
      ]
     },
     "execution_count": 10,
     "metadata": {},
     "output_type": "execute_result"
    }
   ],
   "source": [
    "df.head()"
   ]
  },
  {
   "cell_type": "markdown",
   "metadata": {},
   "source": [
    "### Fixing  the NaN values \n",
    "The dataset contains some NaN values, which is not really surprisingly as we take the column director_fee, not all employees are directors. The NaN values need to be fixed."
   ]
  },
  {
   "cell_type": "code",
   "execution_count": 11,
   "metadata": {
    "collapsed": false,
    "scrolled": true
   },
   "outputs": [
    {
     "name": "stdout",
     "output_type": "stream",
     "text": [
      "salary                        51\n",
      "to_messages                   60\n",
      "deferral_payments            107\n",
      "total_payments                21\n",
      "loan_advances                142\n",
      "bonus                         64\n",
      "email_address                 35\n",
      "restricted_stock_deferred    128\n",
      "deferred_income               97\n",
      "total_stock_value             20\n",
      "expenses                      51\n",
      "from_poi_to_this_person       60\n",
      "exercised_stock_options       44\n",
      "from_messages                 60\n",
      "other                         53\n",
      "from_this_person_to_poi       60\n",
      "poi                            0\n",
      "long_term_incentive           80\n",
      "shared_receipt_with_poi       60\n",
      "restricted_stock              36\n",
      "director_fees                129\n",
      "dtype: int64\n"
     ]
    }
   ],
   "source": [
    "# convert to numpy.nan\n",
    "df.replace(to_replace='NaN', value=np.nan, inplace=True)\n",
    "\n",
    "# count number of nan for columns\n",
    "print (df.isnull().sum())\n"
   ]
  },
  {
   "cell_type": "markdown",
   "metadata": {},
   "source": [
    "Fixing the missing values, replacing NaN with 0 to enable caculation and display description."
   ]
  },
  {
   "cell_type": "code",
   "execution_count": 12,
   "metadata": {
    "collapsed": true,
    "scrolled": true
   },
   "outputs": [],
   "source": [
    "# Nan value treatment \n",
    "df1 = df.replace(to_replace=np.nan, value=0, inplace = True)\n",
    "df1= df.fillna(0).copy(deep=True)\n",
    "df1.columns = list(df.columns.values)\n",
    "#print (df1.isnull().sum())\n",
    "\n"
   ]
  },
  {
   "cell_type": "markdown",
   "metadata": {},
   "source": [
    "I am dropping the row for 'THE TRAVEL AGENCY IN THE PARK'as this is no employee, but a Travel Agency, co-owned by Ken Lay's younger sister Sharon Lay. (source time magazine online)"
   ]
  },
  {
   "cell_type": "code",
   "execution_count": 13,
   "metadata": {
    "collapsed": true
   },
   "outputs": [],
   "source": [
    "# drop row for 'THE TRAVEL AGENCY IN THE PARK'\n",
    "df2= df1.drop(['THE TRAVEL AGENCY IN THE PARK'])\n"
   ]
  },
  {
   "cell_type": "markdown",
   "metadata": {},
   "source": [
    "I found one person which does not have any entries. Eugene Lockhart can be deleted as well from the dataset.\n"
   ]
  },
  {
   "cell_type": "code",
   "execution_count": 14,
   "metadata": {
    "collapsed": true
   },
   "outputs": [],
   "source": [
    "#print(df2.loc['LOCKHART EUGENE E'])"
   ]
  },
  {
   "cell_type": "code",
   "execution_count": 15,
   "metadata": {
    "collapsed": true
   },
   "outputs": [],
   "source": [
    "# drop row for 'LOCKHART EUGENE E'\n",
    "df3= df2.drop(['LOCKHART EUGENE E'])\n",
    "# drop column email address\n",
    "df3= df3.drop(['email_address'], axis = 1)\n"
   ]
  },
  {
   "cell_type": "markdown",
   "metadata": {},
   "source": [
    "I decided to drop the email column, as I think it is not needed for predictions. "
   ]
  },
  {
   "cell_type": "code",
   "execution_count": 16,
   "metadata": {
    "collapsed": true
   },
   "outputs": [],
   "source": [
    "#correcting the negative entries \n",
    "df4 = df3.apply(lambda x: abs(x))"
   ]
  },
  {
   "cell_type": "markdown",
   "metadata": {},
   "source": [
    "I discover negative entries for example in restricted_stock, this looks like an entry error to me. After consulting the pdf, insiderpay I cross checked for BHATNAGAR SANJAY and there is no negative entry, therefore I suspect it is typing error while transferring the data from the pdf into the dataset. This needs to be fixed, as I plan to use KBest for Feature Selection and this one does not like negative values (source: stackoverflow). "
   ]
  },
  {
   "cell_type": "code",
   "execution_count": 17,
   "metadata": {
    "collapsed": false
   },
   "outputs": [
    {
     "data": {
      "text/html": [
       "<div>\n",
       "<table border=\"1\" class=\"dataframe\">\n",
       "  <thead>\n",
       "    <tr style=\"text-align: right;\">\n",
       "      <th></th>\n",
       "      <th>salary</th>\n",
       "      <th>to_messages</th>\n",
       "      <th>deferral_payments</th>\n",
       "      <th>total_payments</th>\n",
       "      <th>loan_advances</th>\n",
       "      <th>bonus</th>\n",
       "      <th>restricted_stock_deferred</th>\n",
       "      <th>deferred_income</th>\n",
       "      <th>total_stock_value</th>\n",
       "      <th>expenses</th>\n",
       "      <th>from_poi_to_this_person</th>\n",
       "      <th>exercised_stock_options</th>\n",
       "      <th>from_messages</th>\n",
       "      <th>other</th>\n",
       "      <th>from_this_person_to_poi</th>\n",
       "      <th>long_term_incentive</th>\n",
       "      <th>shared_receipt_with_poi</th>\n",
       "      <th>restricted_stock</th>\n",
       "      <th>director_fees</th>\n",
       "    </tr>\n",
       "  </thead>\n",
       "  <tbody>\n",
       "    <tr>\n",
       "      <th>count</th>\n",
       "      <td>1.440000e+02</td>\n",
       "      <td>144.000000</td>\n",
       "      <td>1.440000e+02</td>\n",
       "      <td>1.440000e+02</td>\n",
       "      <td>1.440000e+02</td>\n",
       "      <td>1.440000e+02</td>\n",
       "      <td>1.440000e+02</td>\n",
       "      <td>1.440000e+02</td>\n",
       "      <td>1.440000e+02</td>\n",
       "      <td>1.440000e+02</td>\n",
       "      <td>144.000000</td>\n",
       "      <td>1.440000e+02</td>\n",
       "      <td>144.000000</td>\n",
       "      <td>1.440000e+02</td>\n",
       "      <td>144.000000</td>\n",
       "      <td>1.440000e+02</td>\n",
       "      <td>144.000000</td>\n",
       "      <td>1.440000e+02</td>\n",
       "      <td>1.440000e+02</td>\n",
       "    </tr>\n",
       "    <tr>\n",
       "      <th>mean</th>\n",
       "      <td>3.708921e+05</td>\n",
       "      <td>1238.555556</td>\n",
       "      <td>4.463145e+05</td>\n",
       "      <td>4.408533e+06</td>\n",
       "      <td>1.165625e+06</td>\n",
       "      <td>1.351995e+06</td>\n",
       "      <td>1.944818e+05</td>\n",
       "      <td>3.880783e+05</td>\n",
       "      <td>5.927825e+06</td>\n",
       "      <td>7.173088e+04</td>\n",
       "      <td>38.756944</td>\n",
       "      <td>4.240830e+06</td>\n",
       "      <td>363.583333</td>\n",
       "      <td>5.910482e+05</td>\n",
       "      <td>24.625000</td>\n",
       "      <td>6.739157e+05</td>\n",
       "      <td>702.611111</td>\n",
       "      <td>1.809726e+06</td>\n",
       "      <td>1.969224e+04</td>\n",
       "    </tr>\n",
       "    <tr>\n",
       "      <th>std</th>\n",
       "      <td>2.218503e+06</td>\n",
       "      <td>2237.564816</td>\n",
       "      <td>2.759703e+06</td>\n",
       "      <td>2.711763e+07</td>\n",
       "      <td>9.715621e+06</td>\n",
       "      <td>8.148887e+06</td>\n",
       "      <td>1.436647e+06</td>\n",
       "      <td>2.394389e+06</td>\n",
       "      <td>3.649266e+07</td>\n",
       "      <td>4.356503e+05</td>\n",
       "      <td>74.276769</td>\n",
       "      <td>2.624735e+07</td>\n",
       "      <td>1450.675239</td>\n",
       "      <td>3.707631e+06</td>\n",
       "      <td>79.778266</td>\n",
       "      <td>4.073499e+06</td>\n",
       "      <td>1077.290736</td>\n",
       "      <td>1.096799e+07</td>\n",
       "      <td>1.198616e+05</td>\n",
       "    </tr>\n",
       "    <tr>\n",
       "      <th>min</th>\n",
       "      <td>0.000000e+00</td>\n",
       "      <td>0.000000</td>\n",
       "      <td>0.000000e+00</td>\n",
       "      <td>0.000000e+00</td>\n",
       "      <td>0.000000e+00</td>\n",
       "      <td>0.000000e+00</td>\n",
       "      <td>0.000000e+00</td>\n",
       "      <td>0.000000e+00</td>\n",
       "      <td>0.000000e+00</td>\n",
       "      <td>0.000000e+00</td>\n",
       "      <td>0.000000</td>\n",
       "      <td>0.000000e+00</td>\n",
       "      <td>0.000000</td>\n",
       "      <td>0.000000e+00</td>\n",
       "      <td>0.000000</td>\n",
       "      <td>0.000000e+00</td>\n",
       "      <td>0.000000</td>\n",
       "      <td>0.000000e+00</td>\n",
       "      <td>0.000000e+00</td>\n",
       "    </tr>\n",
       "    <tr>\n",
       "      <th>25%</th>\n",
       "      <td>0.000000e+00</td>\n",
       "      <td>0.000000</td>\n",
       "      <td>0.000000e+00</td>\n",
       "      <td>9.964825e+04</td>\n",
       "      <td>0.000000e+00</td>\n",
       "      <td>0.000000e+00</td>\n",
       "      <td>0.000000e+00</td>\n",
       "      <td>0.000000e+00</td>\n",
       "      <td>2.563765e+05</td>\n",
       "      <td>0.000000e+00</td>\n",
       "      <td>0.000000</td>\n",
       "      <td>0.000000e+00</td>\n",
       "      <td>0.000000</td>\n",
       "      <td>0.000000e+00</td>\n",
       "      <td>0.000000</td>\n",
       "      <td>0.000000e+00</td>\n",
       "      <td>0.000000</td>\n",
       "      <td>4.650125e+04</td>\n",
       "      <td>0.000000e+00</td>\n",
       "    </tr>\n",
       "    <tr>\n",
       "      <th>50%</th>\n",
       "      <td>2.112400e+05</td>\n",
       "      <td>347.500000</td>\n",
       "      <td>0.000000e+00</td>\n",
       "      <td>9.677950e+05</td>\n",
       "      <td>0.000000e+00</td>\n",
       "      <td>3.000000e+05</td>\n",
       "      <td>0.000000e+00</td>\n",
       "      <td>0.000000e+00</td>\n",
       "      <td>9.805345e+05</td>\n",
       "      <td>2.193700e+04</td>\n",
       "      <td>4.000000</td>\n",
       "      <td>6.224980e+05</td>\n",
       "      <td>17.500000</td>\n",
       "      <td>9.595000e+02</td>\n",
       "      <td>0.000000</td>\n",
       "      <td>0.000000e+00</td>\n",
       "      <td>114.000000</td>\n",
       "      <td>3.643740e+05</td>\n",
       "      <td>0.000000e+00</td>\n",
       "    </tr>\n",
       "    <tr>\n",
       "      <th>75%</th>\n",
       "      <td>2.718015e+05</td>\n",
       "      <td>1623.000000</td>\n",
       "      <td>1.934200e+04</td>\n",
       "      <td>1.985668e+06</td>\n",
       "      <td>0.000000e+00</td>\n",
       "      <td>8.125000e+05</td>\n",
       "      <td>0.000000e+00</td>\n",
       "      <td>3.907200e+04</td>\n",
       "      <td>2.372703e+06</td>\n",
       "      <td>5.423450e+04</td>\n",
       "      <td>41.250000</td>\n",
       "      <td>1.735597e+06</td>\n",
       "      <td>53.000000</td>\n",
       "      <td>1.505075e+05</td>\n",
       "      <td>14.000000</td>\n",
       "      <td>3.753040e+05</td>\n",
       "      <td>933.750000</td>\n",
       "      <td>8.692200e+05</td>\n",
       "      <td>0.000000e+00</td>\n",
       "    </tr>\n",
       "    <tr>\n",
       "      <th>max</th>\n",
       "      <td>2.670423e+07</td>\n",
       "      <td>15149.000000</td>\n",
       "      <td>3.208340e+07</td>\n",
       "      <td>3.098866e+08</td>\n",
       "      <td>8.392500e+07</td>\n",
       "      <td>9.734362e+07</td>\n",
       "      <td>1.545629e+07</td>\n",
       "      <td>2.799289e+07</td>\n",
       "      <td>4.345095e+08</td>\n",
       "      <td>5.235198e+06</td>\n",
       "      <td>528.000000</td>\n",
       "      <td>3.117640e+08</td>\n",
       "      <td>14368.000000</td>\n",
       "      <td>4.266759e+07</td>\n",
       "      <td>609.000000</td>\n",
       "      <td>4.852193e+07</td>\n",
       "      <td>5521.000000</td>\n",
       "      <td>1.303223e+08</td>\n",
       "      <td>1.398517e+06</td>\n",
       "    </tr>\n",
       "  </tbody>\n",
       "</table>\n",
       "</div>"
      ],
      "text/plain": [
       "             salary   to_messages  deferral_payments  total_payments  \\\n",
       "count  1.440000e+02    144.000000       1.440000e+02    1.440000e+02   \n",
       "mean   3.708921e+05   1238.555556       4.463145e+05    4.408533e+06   \n",
       "std    2.218503e+06   2237.564816       2.759703e+06    2.711763e+07   \n",
       "min    0.000000e+00      0.000000       0.000000e+00    0.000000e+00   \n",
       "25%    0.000000e+00      0.000000       0.000000e+00    9.964825e+04   \n",
       "50%    2.112400e+05    347.500000       0.000000e+00    9.677950e+05   \n",
       "75%    2.718015e+05   1623.000000       1.934200e+04    1.985668e+06   \n",
       "max    2.670423e+07  15149.000000       3.208340e+07    3.098866e+08   \n",
       "\n",
       "       loan_advances         bonus  restricted_stock_deferred  \\\n",
       "count   1.440000e+02  1.440000e+02               1.440000e+02   \n",
       "mean    1.165625e+06  1.351995e+06               1.944818e+05   \n",
       "std     9.715621e+06  8.148887e+06               1.436647e+06   \n",
       "min     0.000000e+00  0.000000e+00               0.000000e+00   \n",
       "25%     0.000000e+00  0.000000e+00               0.000000e+00   \n",
       "50%     0.000000e+00  3.000000e+05               0.000000e+00   \n",
       "75%     0.000000e+00  8.125000e+05               0.000000e+00   \n",
       "max     8.392500e+07  9.734362e+07               1.545629e+07   \n",
       "\n",
       "       deferred_income  total_stock_value      expenses  \\\n",
       "count     1.440000e+02       1.440000e+02  1.440000e+02   \n",
       "mean      3.880783e+05       5.927825e+06  7.173088e+04   \n",
       "std       2.394389e+06       3.649266e+07  4.356503e+05   \n",
       "min       0.000000e+00       0.000000e+00  0.000000e+00   \n",
       "25%       0.000000e+00       2.563765e+05  0.000000e+00   \n",
       "50%       0.000000e+00       9.805345e+05  2.193700e+04   \n",
       "75%       3.907200e+04       2.372703e+06  5.423450e+04   \n",
       "max       2.799289e+07       4.345095e+08  5.235198e+06   \n",
       "\n",
       "       from_poi_to_this_person  exercised_stock_options  from_messages  \\\n",
       "count               144.000000             1.440000e+02     144.000000   \n",
       "mean                 38.756944             4.240830e+06     363.583333   \n",
       "std                  74.276769             2.624735e+07    1450.675239   \n",
       "min                   0.000000             0.000000e+00       0.000000   \n",
       "25%                   0.000000             0.000000e+00       0.000000   \n",
       "50%                   4.000000             6.224980e+05      17.500000   \n",
       "75%                  41.250000             1.735597e+06      53.000000   \n",
       "max                 528.000000             3.117640e+08   14368.000000   \n",
       "\n",
       "              other  from_this_person_to_poi  long_term_incentive  \\\n",
       "count  1.440000e+02               144.000000         1.440000e+02   \n",
       "mean   5.910482e+05                24.625000         6.739157e+05   \n",
       "std    3.707631e+06                79.778266         4.073499e+06   \n",
       "min    0.000000e+00                 0.000000         0.000000e+00   \n",
       "25%    0.000000e+00                 0.000000         0.000000e+00   \n",
       "50%    9.595000e+02                 0.000000         0.000000e+00   \n",
       "75%    1.505075e+05                14.000000         3.753040e+05   \n",
       "max    4.266759e+07               609.000000         4.852193e+07   \n",
       "\n",
       "       shared_receipt_with_poi  restricted_stock  director_fees  \n",
       "count               144.000000      1.440000e+02   1.440000e+02  \n",
       "mean                702.611111      1.809726e+06   1.969224e+04  \n",
       "std                1077.290736      1.096799e+07   1.198616e+05  \n",
       "min                   0.000000      0.000000e+00   0.000000e+00  \n",
       "25%                   0.000000      4.650125e+04   0.000000e+00  \n",
       "50%                 114.000000      3.643740e+05   0.000000e+00  \n",
       "75%                 933.750000      8.692200e+05   0.000000e+00  \n",
       "max                5521.000000      1.303223e+08   1.398517e+06  "
      ]
     },
     "execution_count": 17,
     "metadata": {},
     "output_type": "execute_result"
    }
   ],
   "source": [
    "df4.describe()"
   ]
  },
  {
   "cell_type": "markdown",
   "metadata": {},
   "source": [
    "### Outliers\n",
    "\n",
    "Task 2: Remove outliers\n",
    "\n",
    "First step is to visualize salary and total payments."
   ]
  },
  {
   "cell_type": "code",
   "execution_count": 18,
   "metadata": {
    "collapsed": false
   },
   "outputs": [
    {
     "data": {
      "image/png": "[encoded data removed]",
      "text/plain": [
       "<matplotlib.figure.Figure at 0xf082cb0>"
      ]
     },
     "metadata": {},
     "output_type": "display_data"
    }
   ],
   "source": [
    "%matplotlib inline\n",
    "import matplotlib.pyplot as plt\n",
    "\n",
    "plt.scatter(df3['salary'], df3['total_payments'])\n",
    "plt.show()"
   ]
  },
  {
   "cell_type": "markdown",
   "metadata": {},
   "source": [
    "WOW it looks like as if there is a huge outlier. Who is it???"
   ]
  },
  {
   "cell_type": "code",
   "execution_count": 19,
   "metadata": {
    "collapsed": false
   },
   "outputs": [
    {
     "data": {
      "text/plain": [
       "'TOTAL'"
      ]
     },
     "execution_count": 19,
     "metadata": {},
     "output_type": "execute_result"
    }
   ],
   "source": [
    "df4['salary'].idxmax()\n"
   ]
  },
  {
   "cell_type": "markdown",
   "metadata": {},
   "source": [
    "It is the total, so I can drop that row. "
   ]
  },
  {
   "cell_type": "code",
   "execution_count": 20,
   "metadata": {
    "collapsed": false
   },
   "outputs": [
    {
     "data": {
      "text/plain": [
       "<matplotlib.axes._subplots.AxesSubplot at 0xf1f2e90>"
      ]
     },
     "execution_count": 20,
     "metadata": {},
     "output_type": "execute_result"
    },
    {
     "data": {
      "image/png": "[encoded data removed]",
      "text/plain": [
       "<matplotlib.figure.Figure at 0xf1f2c50>"
      ]
     },
     "metadata": {},
     "output_type": "display_data"
    }
   ],
   "source": [
    "df4.drop('TOTAL', inplace = True)\n",
    "df4.plot.scatter(x = 'salary', y = 'total_payments')"
   ]
  },
  {
   "cell_type": "markdown",
   "metadata": {},
   "source": [
    "The remaining outliers are explained by the management/ persons of interest's payments, see Kenneth Lay.\n",
    "After closer inspection I see not all of the Persons with high payment are POIs. Nevertheless, I think the data looks consistent and I do not want to count them as outliers whatcould theroretically be an idea. "
   ]
  },
  {
   "cell_type": "code",
   "execution_count": 21,
   "metadata": {
    "collapsed": false
   },
   "outputs": [
    {
     "name": "stdout",
     "output_type": "stream",
     "text": [
      "                      total_payments\n",
      "BELDEN TIMOTHY N           5501630.0\n",
      "BOWEN JR RAYMOND M         2669589.0\n",
      "CALGER CHRISTOPHER F       1639297.0\n",
      "CAUSEY RICHARD A           1868758.0\n",
      "COLWELL WESLEY             1490344.0\n",
      "DELAINEY DAVID W           4747979.0\n",
      "FASTOW ANDREW S            2424083.0\n",
      "GLISAN JR BEN F            1272284.0\n",
      "HANNON KEVIN P              288682.0\n",
      "HIRKO JOSEPH                 91093.0\n",
      "KOENIG MARK E              1587421.0\n",
      "KOPPER MICHAEL J           2652612.0\n",
      "LAY KENNETH L            103559793.0\n",
      "RICE KENNETH D              505050.0\n",
      "RIEKER PAULA H             1099100.0\n",
      "SHELBY REX                 2003885.0\n",
      "SKILLING JEFFREY K         8682716.0\n",
      "YEAGER F SCOTT              360300.0\n"
     ]
    }
   ],
   "source": [
    "poi_pay = pd.DataFrame(df3[df3['poi']==True]['total_payments'])\n",
    "print (poi_pay)"
   ]
  },
  {
   "cell_type": "code",
   "execution_count": 22,
   "metadata": {
    "collapsed": false
   },
   "outputs": [
    {
     "data": {
      "image/png": "[encoded data removed]",
      "text/plain": [
       "<matplotlib.figure.Figure at 0xf1fab90>"
      ]
     },
     "metadata": {},
     "output_type": "display_data"
    }
   ],
   "source": [
    "sorted_names =pd.DataFrame(df4['total_payments'])\n",
    "sorted_names.sort_values(by =['total_payments'],axis=0, ascending=False, inplace=False, kind='quicksort', na_position='last')\n",
    "sorted_names.nlargest(10,['total_payments'], keep='first').plot(y='total_payments', kind='bar', legend=True)\n",
    "plt.show()\n",
    "#print(sorted_names.nlargest(10,['total_payments'], keep='first'))\n"
   ]
  },
  {
   "cell_type": "markdown",
   "metadata": {},
   "source": [
    "We can see clearly that Kenneth Lay has an outstanding high amount of total payments. "
   ]
  },
  {
   "cell_type": "markdown",
   "metadata": {},
   "source": [
    "### Linear Regression\n",
    "using it to predict a bonus :-), just an add- on as I was interested in the answer on how much bonus would I get for salary x. It is huge for a salary of 60,000 -> 166,400.98'$ In fact much, much more as my yearly income currently. "
   ]
  },
  {
   "cell_type": "code",
   "execution_count": 23,
   "metadata": {
    "collapsed": false
   },
   "outputs": [
    {
     "name": "stdout",
     "output_type": "stream",
     "text": [
      "Intercept: [-78999.01870096]\n",
      "Coef: [[ 4.06828741]]\n"
     ]
    }
   ],
   "source": [
    "from sklearn.linear_model import LinearRegression\n",
    "\n",
    "model = LinearRegression()\n",
    "model.fit(df4[['salary']], df4[['bonus']])\n",
    "\n",
    "print(\"Intercept: \" + str(model.intercept_))\n",
    "print(\"Coef: \" + str(model.coef_))"
   ]
  },
  {
   "cell_type": "markdown",
   "metadata": {},
   "source": [
    "#### predicted = intercept + coef * salary"
   ]
  },
  {
   "cell_type": "code",
   "execution_count": 24,
   "metadata": {
    "collapsed": false
   },
   "outputs": [
    {
     "name": "stdout",
     "output_type": "stream",
     "text": [
      "166400.97999999998\n"
     ]
    }
   ],
   "source": [
    "#Predicted bonus for 60,000 salary\n",
    "print(-78999.02 + 4.09 * 60000)"
   ]
  },
  {
   "cell_type": "code",
   "execution_count": 25,
   "metadata": {
    "collapsed": true
   },
   "outputs": [],
   "source": [
    "min_x = min(df4['salary'])\n",
    "max_x = max(df4['salary'])\n",
    "\n",
    "predicted = model.predict([[min_x], [max_x]])"
   ]
  },
  {
   "cell_type": "code",
   "execution_count": 26,
   "metadata": {
    "collapsed": false
   },
   "outputs": [
    {
     "data": {
      "image/png": "[encoded data removed]",
      "text/plain": [
       "<matplotlib.figure.Figure at 0xf823df0>"
      ]
     },
     "metadata": {},
     "output_type": "display_data"
    }
   ],
   "source": [
    "plt.scatter(df4['salary'], df4['bonus'])\n",
    "plt.plot([min_x, max_x], predicted, color = \"red\")\n",
    "plt.show()"
   ]
  },
  {
   "cell_type": "markdown",
   "metadata": {},
   "source": [
    "### Task 3: Create new feature(s)"
   ]
  },
  {
   "cell_type": "code",
   "execution_count": 27,
   "metadata": {
    "collapsed": true
   },
   "outputs": [],
   "source": [
    "#conversion to dictionary \n",
    "my_dataset = df4.to_dict('index')\n"
   ]
  },
  {
   "cell_type": "code",
   "execution_count": 28,
   "metadata": {
    "collapsed": true
   },
   "outputs": [],
   "source": [
    "# Create new features 'salary_of_total_payment' and 'salary_of_total_stock_value'\n",
    "df4['salary_of_total_payments'] = 0.0\n",
    "df4['salary_of_total_stock_value'] = 0.0\n",
    "df4.loc[df3['total_payments'] != 0.0,'salary_of_total_payments'] = df3['salary'] / df3['total_payments'] * 100\n",
    "df4.loc[df3['total_stock_value'] != 0.0,'salary_of_total_stock_value'] = df3['salary'] / df3['total_stock_value'] * 100\n"
   ]
  },
  {
   "cell_type": "markdown",
   "metadata": {},
   "source": [
    "I decided to make two new features on the ratio salary/totalpayment and on salary/totalstockvalue"
   ]
  },
  {
   "cell_type": "code",
   "execution_count": 29,
   "metadata": {
    "collapsed": true
   },
   "outputs": [],
   "source": [
    "#df4[df4['total_stock_value'].isnull()]"
   ]
  },
  {
   "cell_type": "code",
   "execution_count": 30,
   "metadata": {
    "collapsed": false
   },
   "outputs": [
    {
     "data": {
      "image/png": "[encoded data removed]",
      "text/plain": [
       "<matplotlib.figure.Figure at 0x127f3a70>"
      ]
     },
     "metadata": {},
     "output_type": "display_data"
    }
   ],
   "source": [
    "# Graph 'salary_of_total_payment' and 'salary_of_total_stock_value' to salary\n",
    "plt.scatter(df4['salary'], df4['salary_of_total_payments'], color='red')\n",
    "plt.scatter(df4['salary'], df4['salary_of_total_stock_value'], color='yellow')\n",
    "plt.xlabel('Salary')\n",
    "plt.ylabel('Of Total Payment / Of Total Stock Value')\n",
    "plt.show()"
   ]
  },
  {
   "cell_type": "markdown",
   "metadata": {},
   "source": [
    "Using the new feature for visualisation on the top 10 total payments."
   ]
  },
  {
   "cell_type": "code",
   "execution_count": 31,
   "metadata": {
    "collapsed": false
   },
   "outputs": [
    {
     "data": {
      "image/png": "[encoded data removed]",
      "text/plain": [
       "<matplotlib.figure.Figure at 0x127b6550>"
      ]
     },
     "metadata": {},
     "output_type": "display_data"
    }
   ],
   "source": [
    "df5= (df4.nlargest(10,['total_payments'], keep='first'))\n",
    "x = (df5[:]['salary_of_total_stock_value'])\n",
    "y= (df5[:]['salary_of_total_payments'])\n",
    "\n",
    "plt.hist(x, alpha=0.5, label='x')\n",
    "plt.hist(y, alpha=0.5, label='y')\n",
    "plt.legend(loc='upper right')\n",
    "plt.show()"
   ]
  },
  {
   "cell_type": "markdown",
   "metadata": {},
   "source": [
    "After having checked the financial aspects, I want to turn to the email features. It would be interesting if there would be a pattern visible. Therefore I am constructing new email features. "
   ]
  },
  {
   "cell_type": "markdown",
   "metadata": {},
   "source": [
    " r_from = from_this_person_to_poi / from_messages\n",
    " \n",
    " r_to = from_poi_to_this_person / to_messages\n",
    "\n",
    "ratio of email sent or received from POI. It will reveal the persons with higher communication with POI (in percentage). I want to be sure no person with lower email volume is overseen. I suspect there could be email traffic even on those cases. \n"
   ]
  },
  {
   "cell_type": "code",
   "execution_count": 32,
   "metadata": {
    "collapsed": false,
    "scrolled": false
   },
   "outputs": [
    {
     "data": {
      "text/html": [
       "<div>\n",
       "<table border=\"1\" class=\"dataframe\">\n",
       "  <thead>\n",
       "    <tr style=\"text-align: right;\">\n",
       "      <th></th>\n",
       "      <th>salary</th>\n",
       "      <th>to_messages</th>\n",
       "      <th>deferral_payments</th>\n",
       "      <th>total_payments</th>\n",
       "      <th>loan_advances</th>\n",
       "      <th>bonus</th>\n",
       "      <th>restricted_stock_deferred</th>\n",
       "      <th>deferred_income</th>\n",
       "      <th>total_stock_value</th>\n",
       "      <th>expenses</th>\n",
       "      <th>from_poi_to_this_person</th>\n",
       "      <th>exercised_stock_options</th>\n",
       "      <th>from_messages</th>\n",
       "      <th>other</th>\n",
       "      <th>from_this_person_to_poi</th>\n",
       "      <th>poi</th>\n",
       "      <th>long_term_incentive</th>\n",
       "      <th>shared_receipt_with_poi</th>\n",
       "      <th>restricted_stock</th>\n",
       "      <th>director_fees</th>\n",
       "      <th>salary_of_total_payments</th>\n",
       "      <th>salary_of_total_stock_value</th>\n",
       "      <th>f_from</th>\n",
       "      <th>f_to</th>\n",
       "    </tr>\n",
       "  </thead>\n",
       "  <tbody>\n",
       "    <tr>\n",
       "      <th>ALLEN PHILLIP K</th>\n",
       "      <td>201955.0</td>\n",
       "      <td>2902.0</td>\n",
       "      <td>2869717.0</td>\n",
       "      <td>4484442.0</td>\n",
       "      <td>0.0</td>\n",
       "      <td>4175000.0</td>\n",
       "      <td>126027.0</td>\n",
       "      <td>3081055.0</td>\n",
       "      <td>1729541.0</td>\n",
       "      <td>13868.0</td>\n",
       "      <td>47.0</td>\n",
       "      <td>1729541.0</td>\n",
       "      <td>2195.0</td>\n",
       "      <td>152.0</td>\n",
       "      <td>65.0</td>\n",
       "      <td>False</td>\n",
       "      <td>304805.0</td>\n",
       "      <td>1407.0</td>\n",
       "      <td>126027.0</td>\n",
       "      <td>0.0</td>\n",
       "      <td>4.503459</td>\n",
       "      <td>11.676797</td>\n",
       "      <td>2.961276</td>\n",
       "      <td>1.619573</td>\n",
       "    </tr>\n",
       "    <tr>\n",
       "      <th>BADUM JAMES P</th>\n",
       "      <td>0.0</td>\n",
       "      <td>0.0</td>\n",
       "      <td>178980.0</td>\n",
       "      <td>182466.0</td>\n",
       "      <td>0.0</td>\n",
       "      <td>0.0</td>\n",
       "      <td>0.0</td>\n",
       "      <td>0.0</td>\n",
       "      <td>257817.0</td>\n",
       "      <td>3486.0</td>\n",
       "      <td>0.0</td>\n",
       "      <td>257817.0</td>\n",
       "      <td>0.0</td>\n",
       "      <td>0.0</td>\n",
       "      <td>0.0</td>\n",
       "      <td>False</td>\n",
       "      <td>0.0</td>\n",
       "      <td>0.0</td>\n",
       "      <td>0.0</td>\n",
       "      <td>0.0</td>\n",
       "      <td>0.000000</td>\n",
       "      <td>0.000000</td>\n",
       "      <td>0.000000</td>\n",
       "      <td>0.000000</td>\n",
       "    </tr>\n",
       "    <tr>\n",
       "      <th>BANNANTINE JAMES M</th>\n",
       "      <td>477.0</td>\n",
       "      <td>566.0</td>\n",
       "      <td>0.0</td>\n",
       "      <td>916197.0</td>\n",
       "      <td>0.0</td>\n",
       "      <td>0.0</td>\n",
       "      <td>560222.0</td>\n",
       "      <td>5104.0</td>\n",
       "      <td>5243487.0</td>\n",
       "      <td>56301.0</td>\n",
       "      <td>39.0</td>\n",
       "      <td>4046157.0</td>\n",
       "      <td>29.0</td>\n",
       "      <td>864523.0</td>\n",
       "      <td>0.0</td>\n",
       "      <td>False</td>\n",
       "      <td>0.0</td>\n",
       "      <td>465.0</td>\n",
       "      <td>1757552.0</td>\n",
       "      <td>0.0</td>\n",
       "      <td>0.052063</td>\n",
       "      <td>0.009097</td>\n",
       "      <td>0.000000</td>\n",
       "      <td>6.890459</td>\n",
       "    </tr>\n",
       "    <tr>\n",
       "      <th>BAXTER JOHN C</th>\n",
       "      <td>267102.0</td>\n",
       "      <td>0.0</td>\n",
       "      <td>1295738.0</td>\n",
       "      <td>5634343.0</td>\n",
       "      <td>0.0</td>\n",
       "      <td>1200000.0</td>\n",
       "      <td>0.0</td>\n",
       "      <td>1386055.0</td>\n",
       "      <td>10623258.0</td>\n",
       "      <td>11200.0</td>\n",
       "      <td>0.0</td>\n",
       "      <td>6680544.0</td>\n",
       "      <td>0.0</td>\n",
       "      <td>2660303.0</td>\n",
       "      <td>0.0</td>\n",
       "      <td>False</td>\n",
       "      <td>1586055.0</td>\n",
       "      <td>0.0</td>\n",
       "      <td>3942714.0</td>\n",
       "      <td>0.0</td>\n",
       "      <td>4.740606</td>\n",
       "      <td>2.514313</td>\n",
       "      <td>0.000000</td>\n",
       "      <td>0.000000</td>\n",
       "    </tr>\n",
       "    <tr>\n",
       "      <th>BAY FRANKLIN R</th>\n",
       "      <td>239671.0</td>\n",
       "      <td>0.0</td>\n",
       "      <td>260455.0</td>\n",
       "      <td>827696.0</td>\n",
       "      <td>0.0</td>\n",
       "      <td>400000.0</td>\n",
       "      <td>82782.0</td>\n",
       "      <td>201641.0</td>\n",
       "      <td>63014.0</td>\n",
       "      <td>129142.0</td>\n",
       "      <td>0.0</td>\n",
       "      <td>0.0</td>\n",
       "      <td>0.0</td>\n",
       "      <td>69.0</td>\n",
       "      <td>0.0</td>\n",
       "      <td>False</td>\n",
       "      <td>0.0</td>\n",
       "      <td>0.0</td>\n",
       "      <td>145796.0</td>\n",
       "      <td>0.0</td>\n",
       "      <td>28.956404</td>\n",
       "      <td>380.345637</td>\n",
       "      <td>0.000000</td>\n",
       "      <td>0.000000</td>\n",
       "    </tr>\n",
       "  </tbody>\n",
       "</table>\n",
       "</div>"
      ],
      "text/plain": [
       "                      salary  to_messages  deferral_payments  total_payments  \\\n",
       "ALLEN PHILLIP K     201955.0       2902.0          2869717.0       4484442.0   \n",
       "BADUM JAMES P            0.0          0.0           178980.0        182466.0   \n",
       "BANNANTINE JAMES M     477.0        566.0                0.0        916197.0   \n",
       "BAXTER JOHN C       267102.0          0.0          1295738.0       5634343.0   \n",
       "BAY FRANKLIN R      239671.0          0.0           260455.0        827696.0   \n",
       "\n",
       "                    loan_advances      bonus  restricted_stock_deferred  \\\n",
       "ALLEN PHILLIP K               0.0  4175000.0                   126027.0   \n",
       "BADUM JAMES P                 0.0        0.0                        0.0   \n",
       "BANNANTINE JAMES M            0.0        0.0                   560222.0   \n",
       "BAXTER JOHN C                 0.0  1200000.0                        0.0   \n",
       "BAY FRANKLIN R                0.0   400000.0                    82782.0   \n",
       "\n",
       "                    deferred_income  total_stock_value  expenses  \\\n",
       "ALLEN PHILLIP K           3081055.0          1729541.0   13868.0   \n",
       "BADUM JAMES P                   0.0           257817.0    3486.0   \n",
       "BANNANTINE JAMES M           5104.0          5243487.0   56301.0   \n",
       "BAXTER JOHN C             1386055.0         10623258.0   11200.0   \n",
       "BAY FRANKLIN R             201641.0            63014.0  129142.0   \n",
       "\n",
       "                    from_poi_to_this_person  exercised_stock_options  \\\n",
       "ALLEN PHILLIP K                        47.0                1729541.0   \n",
       "BADUM JAMES P                           0.0                 257817.0   \n",
       "BANNANTINE JAMES M                     39.0                4046157.0   \n",
       "BAXTER JOHN C                           0.0                6680544.0   \n",
       "BAY FRANKLIN R                          0.0                      0.0   \n",
       "\n",
       "                    from_messages      other  from_this_person_to_poi    poi  \\\n",
       "ALLEN PHILLIP K            2195.0      152.0                     65.0  False   \n",
       "BADUM JAMES P                 0.0        0.0                      0.0  False   \n",
       "BANNANTINE JAMES M           29.0   864523.0                      0.0  False   \n",
       "BAXTER JOHN C                 0.0  2660303.0                      0.0  False   \n",
       "BAY FRANKLIN R                0.0       69.0                      0.0  False   \n",
       "\n",
       "                    long_term_incentive  shared_receipt_with_poi  \\\n",
       "ALLEN PHILLIP K                304805.0                   1407.0   \n",
       "BADUM JAMES P                       0.0                      0.0   \n",
       "BANNANTINE JAMES M                  0.0                    465.0   \n",
       "BAXTER JOHN C                 1586055.0                      0.0   \n",
       "BAY FRANKLIN R                      0.0                      0.0   \n",
       "\n",
       "                    restricted_stock  director_fees  salary_of_total_payments  \\\n",
       "ALLEN PHILLIP K             126027.0            0.0                  4.503459   \n",
       "BADUM JAMES P                    0.0            0.0                  0.000000   \n",
       "BANNANTINE JAMES M         1757552.0            0.0                  0.052063   \n",
       "BAXTER JOHN C              3942714.0            0.0                  4.740606   \n",
       "BAY FRANKLIN R              145796.0            0.0                 28.956404   \n",
       "\n",
       "                    salary_of_total_stock_value    f_from      f_to  \n",
       "ALLEN PHILLIP K                       11.676797  2.961276  1.619573  \n",
       "BADUM JAMES P                          0.000000  0.000000  0.000000  \n",
       "BANNANTINE JAMES M                     0.009097  0.000000  6.890459  \n",
       "BAXTER JOHN C                          2.514313  0.000000  0.000000  \n",
       "BAY FRANKLIN R                       380.345637  0.000000  0.000000  "
      ]
     },
     "execution_count": 32,
     "metadata": {},
     "output_type": "execute_result"
    }
   ],
   "source": [
    "df4.loc[df4['from_this_person_to_poi'] != 0.0,'f_from'] = df4['from_this_person_to_poi'] / df4['from_messages'] * 100\n",
    "df4.loc[df4['from_poi_to_this_person'] != 0.0,'f_to'] = df4['from_poi_to_this_person'] / df4['to_messages'] * 100 \n",
    "df4['f_from'].fillna(0, inplace=True)\n",
    "df4['f_to'].fillna(0, inplace=True)\n",
    "df4.head()"
   ]
  },
  {
   "cell_type": "markdown",
   "metadata": {},
   "source": [
    "I discover here that we have persons which do not have any email address. Needs to be decided if they should be dropped or not. There are also persons with no salary in the list. "
   ]
  },
  {
   "cell_type": "markdown",
   "metadata": {},
   "source": [
    "I am starting with all features except email address "
   ]
  },
  {
   "cell_type": "code",
   "execution_count": 33,
   "metadata": {
    "collapsed": true
   },
   "outputs": [],
   "source": [
    "#complete list of my features before feature selection \n",
    "features_list = ['poi','salary', 'to_messages','deferral_payments','total_payments', 'loan_advances','bonus',  'restricted_stock_deferred', 'deferred_income', 'total_stock_value', 'expenses','from_poi_to_this_person', 'exercised_stock_options', 'from_messages','other', 'from_this_person_to_poi', 'long_term_incentive', 'shared_receipt_with_poi', 'restricted_stock', 'director_fees', 'salary_of_total_payments', 'salary_of_total_stock_value', 'f_from', 'f_to'] \n"
   ]
  },
  {
   "cell_type": "code",
   "execution_count": 34,
   "metadata": {
    "collapsed": true
   },
   "outputs": [],
   "source": [
    "### Store to my_dataset for easy export below.\n",
    "#my_dataset = data_dict\n",
    "my_dataset=df4.to_dict('index')"
   ]
  },
  {
   "cell_type": "code",
   "execution_count": 35,
   "metadata": {
    "collapsed": true,
    "scrolled": true
   },
   "outputs": [],
   "source": [
    "## Extract features and labels from dataset for local testing\n",
    "data = featureFormat(my_dataset, features_list, sort_keys = True)\n",
    "labels, features = targetFeatureSplit(data)                               \n",
    "                           \n"
   ]
  },
  {
   "cell_type": "markdown",
   "metadata": {},
   "source": [
    "### Feature Selection "
   ]
  },
  {
   "cell_type": "markdown",
   "metadata": {},
   "source": [
    "With the feature selection there is a good guideline: make everything as simple as possible, but not simpler. This means select the best features, add features if needed. On the other hand it may be needed to get rid of features due to noise, overfitting just to mention. \n",
    "My feature selection will be based on KBest method from scikit learn and on my intuition. "
   ]
  },
  {
   "cell_type": "code",
   "execution_count": 36,
   "metadata": {
    "collapsed": true
   },
   "outputs": [],
   "source": [
    "predictors = features_list"
   ]
  },
  {
   "cell_type": "markdown",
   "metadata": {},
   "source": [
    "First I am going to visualize on the different features to get a feeling for them. Which features will be the best to be selcted to identify the person of interest.\n",
    "The first method I have choosen is SelectKBest."
   ]
  },
  {
   "cell_type": "code",
   "execution_count": 37,
   "metadata": {
    "collapsed": false
   },
   "outputs": [
    {
     "name": "stderr",
     "output_type": "stream",
     "text": [
      "C:\\ProgramData\\Anaconda3\\lib\\site-packages\\sklearn\\feature_selection\\univariate_selection.py:114: RuntimeWarning: divide by zero encountered in true_divide\n",
      "  f = msb / msw\n",
      "C:\\ProgramData\\Anaconda3\\lib\\site-packages\\ipykernel\\__main__.py:14: RuntimeWarning: divide by zero encountered in log10\n"
     ]
    },
    {
     "data": {
      "image/png": "[encoded data removed]",
      "text/plain": [
       "<matplotlib.figure.Figure at 0x12928dd0>"
      ]
     },
     "metadata": {},
     "output_type": "display_data"
    }
   ],
   "source": [
    "# Feature importances By SelectKBest\n",
    "\n",
    "import numpy as np\n",
    "from sklearn.feature_selection import SelectKBest, f_classif\n",
    "from sklearn.cross_validation import KFold\n",
    "%matplotlib inline\n",
    "import matplotlib.pyplot as plt\n",
    "\n",
    "# Perform feature selection\n",
    "selector = SelectKBest(f_classif, k=5)\n",
    "selector.fit(df4[predictors],df4[\"poi\"])\n",
    "\n",
    "# Get the raw p-values for each feature, and transform from p-values into scores\n",
    "scores = -np.log10(selector.pvalues_)\n",
    "\n",
    "indices = np.argsort(scores)[::-1]\n",
    "\n",
    "sorted_important_features=[]\n",
    "for i in indices:\n",
    "    sorted_important_features.append(predictors[i])\n",
    "\n",
    "# Plot the scores.  \n",
    "plt.figure()\n",
    "plt.title(\"Feature Importances\")\n",
    "plt.bar(range(np.size(predictors)), scores[indices],\n",
    "       color=\"seagreen\", yerr=np.std([indices]), align=\"center\")\n",
    "plt.xticks(range(np.size(predictors)), sorted_important_features, rotation='vertical')\n",
    "\n",
    "plt.xlim([-1, np.size(predictors)])\n",
    "plt.show()\n"
   ]
  },
  {
   "cell_type": "markdown",
   "metadata": {},
   "source": [
    "In contrary to my intuition it is not the mail features which seem to be important but more the financial ones. \n",
    "Next method I am going to use for the feature selection is the Variance Threshold. "
   ]
  },
  {
   "cell_type": "code",
   "execution_count": 38,
   "metadata": {
    "collapsed": true
   },
   "outputs": [],
   "source": [
    "#complete list of my features before feature selection \n",
    "features_list = ['poi','salary', 'to_messages','deferral_payments','total_payments', 'loan_advances','bonus',  'restricted_stock_deferred', 'deferred_income', 'total_stock_value', 'expenses','from_poi_to_this_person', 'exercised_stock_options', 'from_messages','other', 'from_this_person_to_poi', 'long_term_incentive', 'shared_receipt_with_poi', 'restricted_stock', 'director_fees', 'salary_of_total_payments', 'salary_of_total_stock_value', 'f_from', 'f_to'] \n"
   ]
  },
  {
   "cell_type": "code",
   "execution_count": 39,
   "metadata": {
    "collapsed": true
   },
   "outputs": [],
   "source": [
    "from sklearn.feature_selection import VarianceThreshold\n",
    "\n",
    "#Use Variance Threshold to select features with the highest variance\n",
    "\n",
    "sel = VarianceThreshold(threshold=(.8 * (1 - .8)))\n",
    "sel.fit_transform(df4)\n",
    "indices = sel.get_support()\n",
    "\n",
    "discarded = []\n",
    "for i in range(0, len(indices)):\n",
    "    if indices[i] == False:\n",
    "        discarded.append(list(df4.columns.values)[i])"
   ]
  },
  {
   "cell_type": "code",
   "execution_count": 40,
   "metadata": {
    "collapsed": false,
    "scrolled": true
   },
   "outputs": [
    {
     "data": {
      "text/plain": [
       "['poi']"
      ]
     },
     "execution_count": 40,
     "metadata": {},
     "output_type": "execute_result"
    }
   ],
   "source": [
    "discarded"
   ]
  },
  {
   "cell_type": "markdown",
   "metadata": {},
   "source": [
    "The third method applied for feature selection is based on the Decision Tree Classifier and the feature importance function "
   ]
  },
  {
   "cell_type": "code",
   "execution_count": 41,
   "metadata": {
    "collapsed": false
   },
   "outputs": [
    {
     "name": "stdout",
     "output_type": "stream",
     "text": [
      "accuracy before tuning  0.914893617021\n",
      "Decision tree algorithm time: 0.0 s\n"
     ]
    }
   ],
   "source": [
    "### deploying feature selection\n",
    "from sklearn import cross_validation\n",
    "from time import time\n",
    "features_train, features_test, labels_train, labels_test = cross_validation.train_test_split(features, labels, test_size=0.1, random_state=42)\n",
    "\n",
    "### use KFold for split and validate algorithm\n",
    "from sklearn.cross_validation import KFold\n",
    "kf=KFold(len(labels),3)\n",
    "for train_indices, test_indices in kf:\n",
    "    #make training and testing sets\n",
    "    features_train= [features[ii] for ii in train_indices]\n",
    "    features_test= [features[ii] for ii in test_indices]\n",
    "    labels_train=[labels[ii] for ii in train_indices]\n",
    "    labels_test=[labels[ii] for ii in test_indices]\n",
    "\n",
    "from sklearn.tree import DecisionTreeClassifier\n",
    "\n",
    "t0 = time()\n",
    "\n",
    "clf = DecisionTreeClassifier()\n",
    "clf.fit(features_train,labels_train)\n",
    "score = clf.score(features_test,labels_test)\n",
    "print ('accuracy before tuning ', score)\n",
    "\n",
    "print (\"Decision tree algorithm time:\", round(time()-t0, 3), \"s\")\n"
   ]
  },
  {
   "cell_type": "code",
   "execution_count": 42,
   "metadata": {
    "collapsed": false
   },
   "outputs": [
    {
     "name": "stdout",
     "output_type": "stream",
     "text": [
      "Feature Ranking: \n",
      "1 feature salary (0.40500463392029673)\n",
      "2 feature to_messages (0.161765944898475)\n",
      "3 feature deferral_payments (0.1370898980537534)\n",
      "4 feature total_payments (0.10676552363299349)\n",
      "5 feature loan_advances (0.08542844976579936)\n",
      "6 feature bonus (0.06066222933692811)\n",
      "7 feature restricted_stock_deferred (0.043283320391753984)\n"
     ]
    }
   ],
   "source": [
    "importances = clf.feature_importances_\n",
    "import numpy as np\n",
    "indices = np.argsort(importances)[::-1]\n",
    "print ('Feature Ranking: ')\n",
    "for i in range(7):\n",
    "    print (\"{} feature {} ({})\".format(i+1,features_list[i+1],importances[indices[i]]))\n",
    "\n"
   ]
  },
  {
   "cell_type": "markdown",
   "metadata": {},
   "source": [
    "For the automatic choice selection I have prepared the K_best visualisation, the variance and the importance calculation as shown above. \n",
    "\n",
    "I see that features dealing with mail and features dealing with ratio do have a relatively low variance. This is clearly shown in the additional features I have constructed.\n",
    "\n",
    "As the task in this project is to indentify the so called persons of interest, I think a pure automatic choice may mot be the best. My  selection is based on the automatic choice plus human intuition. \n",
    "\n",
    "Salary, bonus and expenses are clearly in the automatic choice, but I wanted also to include email features as they potentially can be an indicator as well. Interesting is that the financial features seem to be more relevant than the email features. \n",
    "\n"
   ]
  },
  {
   "cell_type": "markdown",
   "metadata": {},
   "source": [
    "I am dropping the persons witht 0 value in salary_of_total_payments as I suspect there will be not a big chance to find a poi without payment. "
   ]
  },
  {
   "cell_type": "code",
   "execution_count": 43,
   "metadata": {
    "collapsed": true
   },
   "outputs": [],
   "source": [
    "# Get names of indexes for which column salary of total payments is 0\n",
    "indexNames = df4[ df4['salary_of_total_payments'] == 0.0 ].index\n",
    " \n",
    "    \n",
    "    \n",
    "    \n",
    "# Delete these row indexes from dataFrame\n",
    "df4.drop(indexNames , inplace=True)"
   ]
  },
  {
   "cell_type": "code",
   "execution_count": 44,
   "metadata": {
    "collapsed": false
   },
   "outputs": [
    {
     "data": {
      "text/html": [
       "<div>\n",
       "<table border=\"1\" class=\"dataframe\">\n",
       "  <thead>\n",
       "    <tr style=\"text-align: right;\">\n",
       "      <th></th>\n",
       "      <th>poi</th>\n",
       "      <th>salary</th>\n",
       "      <th>bonus</th>\n",
       "      <th>expenses</th>\n",
       "      <th>from_poi_to_this_person</th>\n",
       "      <th>from_this_person_to_poi</th>\n",
       "      <th>salary_of_total_payments</th>\n",
       "      <th>f_from</th>\n",
       "      <th>f_to</th>\n",
       "    </tr>\n",
       "  </thead>\n",
       "  <tbody>\n",
       "    <tr>\n",
       "      <th>ALLEN PHILLIP K</th>\n",
       "      <td>False</td>\n",
       "      <td>201955.0</td>\n",
       "      <td>4175000.0</td>\n",
       "      <td>13868.0</td>\n",
       "      <td>47.0</td>\n",
       "      <td>65.0</td>\n",
       "      <td>4.503459</td>\n",
       "      <td>2.961276</td>\n",
       "      <td>1.619573</td>\n",
       "    </tr>\n",
       "    <tr>\n",
       "      <th>BANNANTINE JAMES M</th>\n",
       "      <td>False</td>\n",
       "      <td>477.0</td>\n",
       "      <td>0.0</td>\n",
       "      <td>56301.0</td>\n",
       "      <td>39.0</td>\n",
       "      <td>0.0</td>\n",
       "      <td>0.052063</td>\n",
       "      <td>0.000000</td>\n",
       "      <td>6.890459</td>\n",
       "    </tr>\n",
       "    <tr>\n",
       "      <th>BAXTER JOHN C</th>\n",
       "      <td>False</td>\n",
       "      <td>267102.0</td>\n",
       "      <td>1200000.0</td>\n",
       "      <td>11200.0</td>\n",
       "      <td>0.0</td>\n",
       "      <td>0.0</td>\n",
       "      <td>4.740606</td>\n",
       "      <td>0.000000</td>\n",
       "      <td>0.000000</td>\n",
       "    </tr>\n",
       "    <tr>\n",
       "      <th>BAY FRANKLIN R</th>\n",
       "      <td>False</td>\n",
       "      <td>239671.0</td>\n",
       "      <td>400000.0</td>\n",
       "      <td>129142.0</td>\n",
       "      <td>0.0</td>\n",
       "      <td>0.0</td>\n",
       "      <td>28.956404</td>\n",
       "      <td>0.000000</td>\n",
       "      <td>0.000000</td>\n",
       "    </tr>\n",
       "    <tr>\n",
       "      <th>BAZELIDES PHILIP J</th>\n",
       "      <td>False</td>\n",
       "      <td>80818.0</td>\n",
       "      <td>0.0</td>\n",
       "      <td>0.0</td>\n",
       "      <td>0.0</td>\n",
       "      <td>0.0</td>\n",
       "      <td>9.395956</td>\n",
       "      <td>0.000000</td>\n",
       "      <td>0.000000</td>\n",
       "    </tr>\n",
       "  </tbody>\n",
       "</table>\n",
       "</div>"
      ],
      "text/plain": [
       "                      poi    salary      bonus  expenses  \\\n",
       "ALLEN PHILLIP K     False  201955.0  4175000.0   13868.0   \n",
       "BANNANTINE JAMES M  False     477.0        0.0   56301.0   \n",
       "BAXTER JOHN C       False  267102.0  1200000.0   11200.0   \n",
       "BAY FRANKLIN R      False  239671.0   400000.0  129142.0   \n",
       "BAZELIDES PHILIP J  False   80818.0        0.0       0.0   \n",
       "\n",
       "                    from_poi_to_this_person  from_this_person_to_poi  \\\n",
       "ALLEN PHILLIP K                        47.0                     65.0   \n",
       "BANNANTINE JAMES M                     39.0                      0.0   \n",
       "BAXTER JOHN C                           0.0                      0.0   \n",
       "BAY FRANKLIN R                          0.0                      0.0   \n",
       "BAZELIDES PHILIP J                      0.0                      0.0   \n",
       "\n",
       "                    salary_of_total_payments    f_from      f_to  \n",
       "ALLEN PHILLIP K                     4.503459  2.961276  1.619573  \n",
       "BANNANTINE JAMES M                  0.052063  0.000000  6.890459  \n",
       "BAXTER JOHN C                       4.740606  0.000000  0.000000  \n",
       "BAY FRANKLIN R                     28.956404  0.000000  0.000000  \n",
       "BAZELIDES PHILIP J                  9.395956  0.000000  0.000000  "
      ]
     },
     "execution_count": 44,
     "metadata": {},
     "output_type": "execute_result"
    }
   ],
   "source": [
    "df_final= df4[['poi', 'salary', 'bonus','expenses', 'from_poi_to_this_person', 'from_this_person_to_poi', 'salary_of_total_payments','f_from', 'f_to']]\n",
    "df_final.head()\n"
   ]
  },
  {
   "cell_type": "markdown",
   "metadata": {},
   "source": [
    "### Visualisation on salary and bonus "
   ]
  },
  {
   "cell_type": "code",
   "execution_count": 45,
   "metadata": {
    "collapsed": true
   },
   "outputs": [],
   "source": [
    "from sklearn.model_selection import train_test_split\n",
    "\n",
    "# Welche Spalten sollen zur Vorhersage verwendet werden\n",
    "X = df_final[[\"salary\", \"bonus\"]].values\n",
    "\n",
    "y = df_final[\"poi\"].values\n",
    "\n",
    "X_train, X_test, y_train, y_test = train_test_split(X, y, random_state = 0, test_size = 0.4)"
   ]
  },
  {
   "cell_type": "code",
   "execution_count": 46,
   "metadata": {
    "collapsed": false
   },
   "outputs": [
    {
     "name": "stdout",
     "output_type": "stream",
     "text": [
      "0.763157894737\n"
     ]
    }
   ],
   "source": [
    "from sklearn.neighbors import KNeighborsClassifier\n",
    "\n",
    "model = KNeighborsClassifier()\n",
    "model.fit(X_train, y_train)\n",
    "\n",
    "print(model.score(X_test, y_test))"
   ]
  },
  {
   "cell_type": "code",
   "execution_count": 47,
   "metadata": {
    "collapsed": false,
    "scrolled": true
   },
   "outputs": [
    {
     "data": {
      "image/png": "[encoded data removed]",
      "text/plain": [
       "<matplotlib.figure.Figure at 0x128e8670>"
      ]
     },
     "metadata": {
      "image/png": {
       "height": 262,
       "width": 409
      }
     },
     "output_type": "display_data"
    }
   ],
   "source": [
    "from helper import plot_classifier\n",
    "\n",
    "# test data plot\n",
    "plot_classifier(model, X_train, y_train, proba = False, xlabel = \"feature\", ylabel = \"label\")"
   ]
  },
  {
   "cell_type": "code",
   "execution_count": null,
   "metadata": {
    "collapsed": true
   },
   "outputs": [],
   "source": []
  },
  {
   "cell_type": "code",
   "execution_count": 48,
   "metadata": {
    "collapsed": false
   },
   "outputs": [
    {
     "data": {
      "image/png": "[encoded data removed]",
      "text/plain": [
       "<matplotlib.figure.Figure at 0xfda3730>"
      ]
     },
     "metadata": {
      "image/png": {
       "height": 266,
       "width": 409
      }
     },
     "output_type": "display_data"
    }
   ],
   "source": [
    "# test data plot\n",
    "plot_classifier(model, X_test, y_test, proba = False, xlabel = \"feature\", ylabel = \"label\")"
   ]
  },
  {
   "cell_type": "markdown",
   "metadata": {},
   "source": [
    "### Task 4: Try a varity of classifiers\n",
    "Please name your classifier clf for easy export \n",
    "Note that if you want to do PCA or other multi-stage operations,\n",
    "you'll need to use Pipelines. For more info:\n",
    "http://scikit-learn.org/stable/modules/pipeline.html\n",
    "\n",
    "   \n"
   ]
  },
  {
   "cell_type": "code",
   "execution_count": 49,
   "metadata": {
    "collapsed": true
   },
   "outputs": [],
   "source": [
    "import os\n",
    "os.chdir(\"./\")\n",
    "import feature_format"
   ]
  },
  {
   "cell_type": "code",
   "execution_count": 50,
   "metadata": {
    "collapsed": true
   },
   "outputs": [],
   "source": [
    "my_dataset = df_final.to_dict('index')\n",
    "features_list =['poi', 'salary', 'bonus', 'from_poi_to_this_person', 'from_this_person_to_poi', 'salary_of_total_payments','f_from', 'f_to'] "
   ]
  },
  {
   "cell_type": "code",
   "execution_count": 51,
   "metadata": {
    "collapsed": true
   },
   "outputs": [],
   "source": [
    "data = feature_format.featureFormat (my_dataset, features_list, sort_keys = True)"
   ]
  },
  {
   "cell_type": "code",
   "execution_count": 52,
   "metadata": {
    "collapsed": true
   },
   "outputs": [],
   "source": [
    "## Extract features and labels from dataset for local testing\n",
    "labels, features= feature_format.targetFeatureSplit (data)"
   ]
  },
  {
   "cell_type": "code",
   "execution_count": 53,
   "metadata": {
    "collapsed": true,
    "scrolled": true
   },
   "outputs": [],
   "source": [
    "#which columns shall be used for prediciton \n",
    "X =features\n",
    "y =labels"
   ]
  },
  {
   "cell_type": "code",
   "execution_count": 54,
   "metadata": {
    "collapsed": true
   },
   "outputs": [],
   "source": [
    "# Example starting point. Try investigating other evaluation techniques!\n",
    "from sklearn.cross_validation import train_test_split\n",
    "features_train, features_test, labels_train, labels_test = \\\n",
    "    train_test_split(features, labels, test_size=0.3, random_state=42)\n"
   ]
  },
  {
   "cell_type": "code",
   "execution_count": 55,
   "metadata": {
    "collapsed": true
   },
   "outputs": [],
   "source": [
    "X_train = features_train \n",
    "X_test = features_test\n",
    "y_train = labels_train \n",
    "y_test = labels_test"
   ]
  },
  {
   "cell_type": "code",
   "execution_count": 56,
   "metadata": {
    "collapsed": true
   },
   "outputs": [],
   "source": [
    "X_train, X_test, y_train, y_test = train_test_split(X, y, test_size=0.3, random_state=42)\n"
   ]
  },
  {
   "cell_type": "code",
   "execution_count": 57,
   "metadata": {
    "collapsed": true
   },
   "outputs": [],
   "source": [
    "from sklearn.preprocessing import StandardScaler\n",
    "\n",
    "scaler = StandardScaler()\n",
    "scaler.fit(X_train)\n",
    "\n",
    "X_train = scaler.transform(X_train)\n",
    "X_test = scaler.transform(X_test)"
   ]
  },
  {
   "cell_type": "markdown",
   "metadata": {},
   "source": [
    "I have scaled the data to have a better comparison. \n",
    "Starting point is the Gaussian Naive Bayes as adviced in the starter code. "
   ]
  },
  {
   "cell_type": "code",
   "execution_count": 58,
   "metadata": {
    "collapsed": false,
    "scrolled": true
   },
   "outputs": [
    {
     "name": "stdout",
     "output_type": "stream",
     "text": [
      "Gaussian score: 0.689655172414\n"
     ]
    }
   ],
   "source": [
    "#features_test = scaler.transform(features_test)\n",
    "\n",
    "# Provided to give you a starting point. Try a variety of classifiers.\n",
    "from sklearn.naive_bayes import GaussianNB\n",
    "clf = GaussianNB()\n",
    "\n",
    "clf = GaussianNB()\n",
    "clf.fit(X_train, y_train)\n",
    "\n",
    "print(\"Gaussian score:\", clf.score(X_test, y_test))"
   ]
  },
  {
   "cell_type": "code",
   "execution_count": 59,
   "metadata": {
    "collapsed": false
   },
   "outputs": [
    {
     "name": "stdout",
     "output_type": "stream",
     "text": [
      "KNN score: 0.758620689655\n"
     ]
    }
   ],
   "source": [
    "from sklearn.neighbors import KNeighborsClassifier\n",
    "\n",
    "clf = KNeighborsClassifier()\n",
    "clf.fit(X_train, y_train)\n",
    "\n",
    "print(\"KNN score:\", clf.score(X_test, y_test))"
   ]
  },
  {
   "cell_type": "markdown",
   "metadata": {},
   "source": [
    "The score of the KNeighboursClassifier is with 0.75 better than the Gaussian Naive Bayes with 0.69. After playing around with other classifiers I will tune the KNN. "
   ]
  },
  {
   "cell_type": "markdown",
   "metadata": {},
   "source": [
    "### Comparison of different models "
   ]
  },
  {
   "cell_type": "code",
   "execution_count": 60,
   "metadata": {
    "collapsed": false,
    "scrolled": false
   },
   "outputs": [
    {
     "name": "stdout",
     "output_type": "stream",
     "text": [
      "logistic regression: 0.793103448276\n",
      "svc: 0.758620689655\n",
      "neural network: 0.793103448276\n",
      "decision tree: 0.724137931034\n",
      "random forest: 0.758620689655\n",
      "gradient boosting: 0.586206896552\n"
     ]
    },
    {
     "name": "stderr",
     "output_type": "stream",
     "text": [
      "C:\\ProgramData\\Anaconda3\\lib\\site-packages\\sklearn\\neural_network\\multilayer_perceptron.py:563: ConvergenceWarning: Stochastic Optimizer: Maximum iterations reached and the optimization hasn't converged yet.\n",
      "  % (), ConvergenceWarning)\n"
     ]
    }
   ],
   "source": [
    "from sklearn.linear_model import LogisticRegression\n",
    "from sklearn.svm import SVC\n",
    "from sklearn.neural_network import MLPClassifier\n",
    "from sklearn.tree import DecisionTreeClassifier\n",
    "from sklearn.ensemble import RandomForestClassifier\n",
    "from sklearn.ensemble import GradientBoostingClassifier\n",
    "\n",
    "clfs = {\n",
    "    \"logistic regression\": LogisticRegression(),\n",
    "    \"svc\": SVC(),\n",
    "    \"neural network\": MLPClassifier(),\n",
    "    \"decision tree\": DecisionTreeClassifier(),\n",
    "    \"random forest\": RandomForestClassifier(),\n",
    "    \"gradient boosting\": GradientBoostingClassifier()\n",
    "}\n",
    "\n",
    "for key, clf in clfs.items():\n",
    "    clf.fit(X_train, y_train)\n",
    "    score = clf.score(X_test, y_test)\n",
    "    print(key + \": \" + str(score))"
   ]
  },
  {
   "cell_type": "markdown",
   "metadata": {},
   "source": [
    "### Task 5: Tune your classifier to achieve better than .3 "
   ]
  },
  {
   "cell_type": "markdown",
   "metadata": {},
   "source": [
    "With the results shown above, I decide I will use the KNN as here the result shows there might be room for improvement which can be done with tuning. "
   ]
  },
  {
   "cell_type": "code",
   "execution_count": 61,
   "metadata": {
    "collapsed": true
   },
   "outputs": [],
   "source": [
    "from sklearn.model_selection import train_test_split\n",
    "X =features\n",
    "y =labels\n",
    "\n",
    "X_train, X_validation, y_train, y_validation = train_test_split(X, y, random_state = 0)"
   ]
  },
  {
   "cell_type": "markdown",
   "metadata": {},
   "source": [
    "#### as recomended I add the Stratified Shuffle Split "
   ]
  },
  {
   "cell_type": "code",
   "execution_count": 85,
   "metadata": {
    "collapsed": false
   },
   "outputs": [
    {
     "name": "stdout",
     "output_type": "stream",
     "text": [
      "TRAIN: [22 38 53  3  2 52 91 41 32 66 60 89 43 57 34 15 64 51 28 50 68  6 75 29  7\n",
      " 23 37 56 71 76  8 49 11 69 47 86 33 77 67 35 62 74 87 85  4 61 13] TEST: [ 5 92 19 45 36 18 83 31 27 42 39 90 40 82 25 48 84 58 20 88 26  9 30 59 81\n",
      "  1 12  0 44 78 63 17 73 46 79 14 21 65 80 10 93 72 54 16 70 24 55]\n",
      "TRAIN: [78 48 93 89 41 75 11 20 27  0 33 19 16 67 39 23  9 53  8 88 10 77 43 32 73\n",
      " 74  4 82 45 58 79 61 71  7 21 70 76 83 62 37 63 22 86 72 60 81 57] TEST: [12 40 42 80  2 35 66 51 69 87 13 30 64 24 50 46 55 56 15 52 44 85 47  6 34\n",
      " 18 59 65  5 90 31 38 25 29 28 17 84 92 49  3 68  1 91 36 54 26 14]\n",
      "TRAIN: [43  1 80 12 67 19 74 77 27 51 78 10 64 35 79  0 38 49 25 22 89 42 75  3 52\n",
      " 88 14 40 24 50 46  5 41 92 54 83 13 15 58 63 69 39 90 62 36 33 34] TEST: [60  6 87 86 56 37 93 30 28 84  8 59  2 26 48 44 31 85 55 72 18 57 23  9 68\n",
      " 32 47 66 45 81 91 17 70  7 53 76 21 82 65 20 16 61  4 11 73 71 29]\n",
      "TRAIN: [24 33 87  9 48 13 61 19 80 74 84 59 23  6 37  4 56 70 73 36 88 15 52  8 31\n",
      "  1 57 76 51 40 44 77  0 75 69 50 83 93 66 90 85 49 21 86 29 32 28] TEST: [27  5 30  7 72 18 62 34 16 92 67 64 26 65 71 89  3 91 35 54 38 45 81 53 47\n",
      " 22 58 55 60 68 12 46 25 20 17 42 78 14 82 41 63  2 11 10 79 39 43]\n",
      "TRAIN: [38 57 21  0  3 26 51 28 64 77 25  8 88 43 15 40 59 19 39 50  4 69 49 11 42\n",
      " 61 67 34 73 32 55 78 89 83 81 23 44 30 45 48 66 65 79 56 60 33 46] TEST: [86 16 91 93 14 74 41  7 85  2 92 54  9 76 62 71 53 52 58 10 12 35 90  5 68\n",
      " 82 17 13 75 70 29 37 20 80 87  1  6 31 84 72 24 63 47 27 18 22 36]\n"
     ]
    }
   ],
   "source": [
    "from sklearn.model_selection import StratifiedShuffleSplit\n",
    "X = np.array(features)\n",
    "y = np.array(labels)\n",
    "sss = StratifiedShuffleSplit(n_splits=5, test_size=0.5, random_state=0)\n",
    "sss.get_n_splits(X, y)\n",
    "\n",
    "#print(sss)       \n",
    "\n",
    "for train_index, test_index in sss.split(X, y):\n",
    "   print(\"TRAIN:\", train_index, \"TEST:\", test_index)\n",
    "   X_train, X_test = X[train_index], X[test_index]\n",
    "   y_train, y_test = y[train_index], y[test_index]\n"
   ]
  },
  {
   "cell_type": "code",
   "execution_count": 86,
   "metadata": {
    "collapsed": true
   },
   "outputs": [],
   "source": [
    "from sklearn.pipeline import Pipeline\n",
    "\n",
    "from sklearn.preprocessing import StandardScaler\n",
    "from sklearn.neighbors import KNeighborsClassifier\n",
    "\n",
    "pipeline = Pipeline([\n",
    "    (\"scaler\", StandardScaler()),\n",
    "    (\"knn\", KNeighborsClassifier())\n",
    "])\n",
    "\n",
    "# pipeline.set_params(knn__n_neighbors = 1)"
   ]
  },
  {
   "cell_type": "code",
   "execution_count": 87,
   "metadata": {
    "collapsed": false
   },
   "outputs": [
    {
     "name": "stdout",
     "output_type": "stream",
     "text": [
      "the best parameter choice is: {'knn__n_neighbors': 2}\n"
     ]
    }
   ],
   "source": [
    "from sklearn.model_selection import GridSearchCV\n",
    "\n",
    "clf = GridSearchCV(pipeline, param_grid = {\n",
    "    \"knn__n_neighbors\": [1, 2, 3, 4, 5, 6, 7, 8, 9, 10]\n",
    "})\n",
    "clf.fit(X_train, y_train)\n",
    "\n",
    "print(\"the best parameter choice is:\", clf.best_params_)"
   ]
  },
  {
   "cell_type": "code",
   "execution_count": 88,
   "metadata": {
    "collapsed": false
   },
   "outputs": [
    {
     "name": "stdout",
     "output_type": "stream",
     "text": [
      "score: 0.791666666667\n"
     ]
    }
   ],
   "source": [
    "print(\"score:\",clf.score(X_validation, y_validation))"
   ]
  },
  {
   "cell_type": "code",
   "execution_count": 89,
   "metadata": {
    "collapsed": false,
    "scrolled": false
   },
   "outputs": [
    {
     "name": "stdout",
     "output_type": "stream",
     "text": [
      "the best score is: \n",
      "0.829787234043\n"
     ]
    }
   ],
   "source": [
    "print (\"the best score is: \")\n",
    "print(clf.best_score_)"
   ]
  },
  {
   "cell_type": "markdown",
   "metadata": {},
   "source": [
    "#### The best neighbor now after applying stratified shuffle split is 2 and the best score is 0.83 now"
   ]
  },
  {
   "cell_type": "markdown",
   "metadata": {},
   "source": [
    "##### As it is recommended in the first review I show parameter tuning as example additionally to the tuning code above: "
   ]
  },
  {
   "cell_type": "code",
   "execution_count": 67,
   "metadata": {
    "collapsed": false
   },
   "outputs": [],
   "source": [
    "my_dataset\n",
    "X =features\n",
    "y =labels\n"
   ]
  },
  {
   "cell_type": "code",
   "execution_count": 68,
   "metadata": {
    "collapsed": false
   },
   "outputs": [
    {
     "name": "stdout",
     "output_type": "stream",
     "text": [
      "KNN score: 0.808510638298\n"
     ]
    }
   ],
   "source": [
    "from sklearn.neighbors import KNeighborsClassifier\n",
    "\n",
    "clf = KNeighborsClassifier(n_neighbors=3)\n",
    "clf.fit(X_train, y_train)\n",
    "\n",
    "print(\"KNN score:\", clf.score(X_test, y_test))\n"
   ]
  },
  {
   "cell_type": "code",
   "execution_count": 69,
   "metadata": {
    "collapsed": false
   },
   "outputs": [
    {
     "name": "stdout",
     "output_type": "stream",
     "text": [
      "KNN score: 0.829787234043\n"
     ]
    }
   ],
   "source": [
    "from sklearn.neighbors import KNeighborsClassifier\n",
    "\n",
    "clf = KNeighborsClassifier(n_neighbors=5)\n",
    "clf.fit(X_train, y_train)\n",
    "\n",
    "print(\"KNN score:\", clf.score(X_test, y_test))"
   ]
  },
  {
   "cell_type": "code",
   "execution_count": 70,
   "metadata": {
    "collapsed": false
   },
   "outputs": [
    {
     "name": "stdout",
     "output_type": "stream",
     "text": [
      "KNN score: 0.808510638298\n"
     ]
    }
   ],
   "source": [
    "from sklearn.neighbors import KNeighborsClassifier\n",
    "\n",
    "clf = KNeighborsClassifier(n_neighbors=7)\n",
    "clf.fit(X_train, y_train)\n",
    "\n",
    "print(\"KNN score:\", clf.score(X_test, y_test))"
   ]
  },
  {
   "cell_type": "code",
   "execution_count": 71,
   "metadata": {
    "collapsed": false
   },
   "outputs": [
    {
     "name": "stdout",
     "output_type": "stream",
     "text": [
      "KNN score: 0.765957446809\n"
     ]
    }
   ],
   "source": [
    "from sklearn.neighbors import KNeighborsClassifier\n",
    "\n",
    "clf = KNeighborsClassifier(n_neighbors=9)\n",
    "clf.fit(X_train, y_train)\n",
    "\n",
    "print(\"KNN score:\", clf.score(X_test, y_test))"
   ]
  },
  {
   "cell_type": "markdown",
   "metadata": {},
   "source": [
    "The scores are differing depending on the neighbors = 3 -0.71, 5 -0.75 and 7-0.79 whereas 9 delivers 0.75 again. 7 is the best choice as the automatic code delivered it. "
   ]
  },
  {
   "cell_type": "markdown",
   "metadata": {},
   "source": [
    "### the scores are different after applying the stratified shuffle split\n",
    "these are now: 3-0.8, 5´-0,82 , 7-0.81 and 9- 0,76"
   ]
  },
  {
   "cell_type": "markdown",
   "metadata": {},
   "source": [
    "Testing the scores for KNN"
   ]
  },
  {
   "cell_type": "code",
   "execution_count": 72,
   "metadata": {
    "collapsed": true
   },
   "outputs": [],
   "source": [
    "data = featureFormat(my_dataset, features_list, sort_keys = True)\n",
    "labels, features = targetFeatureSplit(data)\n",
    "\n",
    "from sklearn.cross_validation import train_test_split\n",
    "features_train, features_test, labels_train, labels_test = \\\n",
    "    train_test_split(features, labels, test_size=0.3, random_state=42)\n"
   ]
  },
  {
   "cell_type": "code",
   "execution_count": 73,
   "metadata": {
    "collapsed": false
   },
   "outputs": [
    {
     "name": "stdout",
     "output_type": "stream",
     "text": [
      "Testing time: 0.0 s\n",
      "Accuracy is equal to 86.2069 %\n",
      "Precision is :  0.571428571429\n",
      "Recall is    :  0.8\n",
      "f1-score is  :  0.666666666667\n"
     ]
    }
   ],
   "source": [
    "clf = KNeighborsClassifier()\n",
    "clf.fit(X_train, y_train)\n",
    "from time import time\n",
    "t1 = time()\n",
    "\n",
    "pred = clf.predict(features_test)\n",
    "print (\"Testing time:\", round(time()-t1,3),\"s\")\n",
    "\n",
    "from sklearn.metrics import accuracy_score\n",
    "from sklearn.metrics import recall_score\n",
    "from sklearn.metrics import precision_score\n",
    "from sklearn.metrics import f1_score\n",
    "\n",
    "accuracy = accuracy_score(labels_test,pred)\n",
    "\n",
    "print(\"Accuracy is equal to %0.4F %%\" % (accuracy*100))\n",
    "print(\"Precision is : \",precision_score(pred, labels_test))\n",
    "print (\"Recall is    : \",recall_score(pred, labels_test))\n",
    "print (\"f1-score is  : \",f1_score(pred, labels_test))\n"
   ]
  },
  {
   "cell_type": "markdown",
   "metadata": {},
   "source": [
    "The KnearestNeighbour classifier is improving from 0.75 up to the best possible score of 0.86."
   ]
  },
  {
   "cell_type": "markdown",
   "metadata": {},
   "source": [
    "### Validation and it's importance\n",
    "\n",
    "For the validation I am looking at the Score, the Precision and the recall of my selected classifier. The likelyhood that a person is a poi is the precision and the recall measures if it is likely that the identifier will be flagged as poi. \n",
    "\n",
    "Validation is done to estimate the performance on independent dataset and serves as check on overfitting.  \n",
    "With performing the validation we can be sure if our classifier works well (or not). We get a feeling about the performance of the classifier. If the validation shows bad results, it is a sign to go back to either feature selection, parameter tuning or choosing another classifier. "
   ]
  },
  {
   "cell_type": "code",
   "execution_count": 74,
   "metadata": {
    "collapsed": true
   },
   "outputs": [],
   "source": [
    "from sklearn.model_selection import train_test_split\n",
    "X =features\n",
    "y =labels\n",
    "\n",
    "X_train, X_test, y_train, y_test = train_test_split(X, y, random_state = 0, test_size = 0.25)"
   ]
  },
  {
   "cell_type": "code",
   "execution_count": 75,
   "metadata": {
    "collapsed": false
   },
   "outputs": [
    {
     "name": "stdout",
     "output_type": "stream",
     "text": [
      "the score is: 0.791666666667\n"
     ]
    }
   ],
   "source": [
    "from sklearn.neighbors import KNeighborsClassifier\n",
    "\n",
    "clf = KNeighborsClassifier(n_neighbors = 7)\n",
    "clf.fit(X_train, y_train)\n",
    "\n",
    "print(\"the score is:\", clf.score(X_test, y_test))"
   ]
  },
  {
   "cell_type": "code",
   "execution_count": 76,
   "metadata": {
    "collapsed": true
   },
   "outputs": [],
   "source": [
    "y_test_pred = clf.predict(X_test)"
   ]
  },
  {
   "cell_type": "code",
   "execution_count": 77,
   "metadata": {
    "collapsed": false,
    "scrolled": true
   },
   "outputs": [
    {
     "name": "stdout",
     "output_type": "stream",
     "text": [
      "precision: 0.666666666667\n",
      "recall: 0.333333333333\n"
     ]
    }
   ],
   "source": [
    "from sklearn.metrics import precision_score, recall_score\n",
    "\n",
    "print(\"precision:\", precision_score(y_test, y_test_pred))\n",
    "print(\"recall:\", recall_score(y_test, y_test_pred))"
   ]
  },
  {
   "cell_type": "markdown",
   "metadata": {},
   "source": [
    "Precision is the number of correct positive classifications divided by the total number of positive labels assigned. In other words, it is the fraction of persons of interest predicted by the algorithm that are truly persons of interest.\n",
    "Recall is the number of correct positive classifications divided by the number of positive instances that should have been identified. In other words, it is the fraction of the total number of persons of interest in the data that the classifier identifies. "
   ]
  },
  {
   "cell_type": "markdown",
   "metadata": {},
   "source": [
    "As a second tool for the validation I am using the confusion matrix which evaluates the accuracy of my classification. With having uses both methods complementary I can be sure my classifier is working well and I did not over- / underfit it.  \n",
    "\n",
    "A confusion matrix is a matrix (table) that can be used to measure the performance of an machine learning algorithm, usually a supervised learning one. Each row of the confusion matrix represents the instances of an actual class and each column represents the instances of a predicted class.  The name confusion matrix reflects the fact that it makes it easy for us to see what kind of confusions occur in our classification algorithms. (source: www.python-course.eu)"
   ]
  },
  {
   "cell_type": "markdown",
   "metadata": {},
   "source": [
    "## Format  `confusion_matrix`:\n",
    "\n",
    "|Modell: False | Modell: True\n",
    "--------------------|-\n",
    "**reality: FALSE** | True negativ | False positiv\n",
    "**reality: TRUE** | False negativ | True positiv"
   ]
  },
  {
   "cell_type": "code",
   "execution_count": 78,
   "metadata": {
    "collapsed": true
   },
   "outputs": [],
   "source": [
    "y_test_pred = clf.predict(X_test)"
   ]
  },
  {
   "cell_type": "code",
   "execution_count": 79,
   "metadata": {
    "collapsed": true
   },
   "outputs": [],
   "source": [
    "from sklearn.metrics import confusion_matrix"
   ]
  },
  {
   "cell_type": "code",
   "execution_count": 80,
   "metadata": {
    "collapsed": false,
    "scrolled": true
   },
   "outputs": [
    {
     "data": {
      "text/plain": [
       "array([[17,  1],\n",
       "       [ 4,  2]])"
      ]
     },
     "execution_count": 80,
     "metadata": {},
     "output_type": "execute_result"
    }
   ],
   "source": [
    "confusion_matrix(y_test, y_test_pred)"
   ]
  },
  {
   "cell_type": "markdown",
   "metadata": {},
   "source": [
    "### Conclusion\n",
    "\n",
    "This was an expierience, the part for the data describing was now very comfortable and the investigation on the data set and the background was really fun. \n",
    "The feature selection seemed for me to be done better by intuition than by a technique as it turns out as if the salary and bonus (from the financial features) are the ones which identify a poi better than the email features. What was surprising for me is that some classifier deliver the same scores.\n",
    "\n",
    "The dataset contains only 146 entries which is normally a small amount to be used for predicitons, the more input data the better the prediction can be if the methods shown here are correctly applied. \n",
    "\n",
    "For the validiation part I decided to use the confusion matrix, it delivers the overview about the comparison of the prediction with false true and true false. Validation is important as we need to know how good our classifier is working. \n",
    "\n",
    "I have one additional comment on the parameter tuning. It needs to be carefully applied as we could overfit.Overfitting happens when a model learns the detail and noise in the training data to the extent that it negatively impacts the performance of the model on new data. This means that the noise or random fluctuations in the training data is picked up and learned as concepts by the model. The problem is that these concepts do not apply to new data and negatively impact the models ability to generalize.\n",
    "\n",
    "Addtitionally I want to remark, I did not touch the possibility of identifying the emails themselves. They could be used to predict if a person has written an email.\n"
   ]
  },
  {
   "cell_type": "code",
   "execution_count": 81,
   "metadata": {
    "collapsed": false,
    "scrolled": true
   },
   "outputs": [
    {
     "name": "stdout",
     "output_type": "stream",
     "text": [
      "KNeighborsClassifier(algorithm='auto', leaf_size=30, metric='minkowski',\n",
      "           metric_params=None, n_jobs=1, n_neighbors=7, p=2,\n",
      "           weights='uniform')\n",
      "\tAccuracy: 0.80460\tPrecision: 0.53194\tRecall: 0.19150\tF1: 0.28162\tF2: 0.21961\n",
      "\tTotal predictions: 10000\tTrue positives:  383\tFalse positives:  337\tFalse negatives: 1617\tTrue negatives: 7663\n",
      "\n"
     ]
    }
   ],
   "source": [
    "###  precision and recall using our testing script. Check the tester.py script in the final project\n",
    "### folder for details on the evaluation method, especially the test_classifier\n",
    "### function. Because of the small size of the dataset, the script uses\n",
    "### stratified shuffle split cross validation. For more info: \n",
    "### http://scikit-learn.org/stable/modules/generated/sklearn.cross_validation.StratifiedShuffleSplit.html\n",
    "\n",
    "# import test_classifier and run the function\n",
    "from tester import test_classifier\n",
    "\n",
    "test_classifier(clf, my_dataset, features_list)\n"
   ]
  },
  {
   "cell_type": "markdown",
   "metadata": {},
   "source": [
    "Using the tester I get for the precision (probability of a given prediction to be true)0.5 which is more than 0.3 and for the accuracy 0.8 (the precentage of correct predictions). "
   ]
  },
  {
   "cell_type": "markdown",
   "metadata": {},
   "source": [
    "### Task 6: Dump your classifier, dataset, and features_list so anyone can check your results\n"
   ]
  },
  {
   "cell_type": "code",
   "execution_count": 82,
   "metadata": {
    "collapsed": true
   },
   "outputs": [],
   "source": [
    "from tester import dump_classifier_and_data\n"
   ]
  },
  {
   "cell_type": "code",
   "execution_count": 83,
   "metadata": {
    "collapsed": true
   },
   "outputs": [],
   "source": [
    "### dump your classifier, dataset and features_list so\n",
    "### anyone can run/check your results\n",
    "pickle.dump(clf, open(\"my_classifier.pkl\", \"wb\") )\n",
    "pickle.dump(data_dict, open(\"my_dataset.pkl\", \"wb\") )\n",
    "pickle.dump(features_list, open(\"my_feature_list.pkl\", \"wb\") )\n"
   ]
  },
  {
   "cell_type": "code",
   "execution_count": 84,
   "metadata": {
    "collapsed": false
   },
   "outputs": [
    {
     "data": {
      "text/plain": [
       "['poi',\n",
       " 'salary',\n",
       " 'bonus',\n",
       " 'from_poi_to_this_person',\n",
       " 'from_this_person_to_poi',\n",
       " 'salary_of_total_payments',\n",
       " 'f_from',\n",
       " 'f_to']"
      ]
     },
     "execution_count": 84,
     "metadata": {},
     "output_type": "execute_result"
    }
   ],
   "source": [
    "features_list"
   ]
  },
  {
   "cell_type": "code",
   "execution_count": 85,
   "metadata": {
    "collapsed": false,
    "scrolled": true
   },
   "outputs": [
    {
     "data": {
      "text/plain": [
       "KNeighborsClassifier(algorithm='auto', leaf_size=30, metric='minkowski',\n",
       "           metric_params=None, n_jobs=1, n_neighbors=7, p=2,\n",
       "           weights='uniform')"
      ]
     },
     "execution_count": 85,
     "metadata": {},
     "output_type": "execute_result"
    }
   ],
   "source": [
    "clf"
   ]
  },
  {
   "cell_type": "markdown",
   "metadata": {},
   "source": [
    "### Final remark\n",
    "\n",
    "I experimented a lot with different classifier. My final decision was to KNN as it delivered the best result. But I noticiced while experimenting that the results can differ regarding training and test set used. \n",
    "Finally I hope everything is matching the expectations.\n",
    "Recources I used: Udemy, Data Camp, Stack Overflow, Google, Scikitlearn documentation and Udacity code. "
   ]
  }
 ],
 "metadata": {
  "kernelspec": {
   "display_name": "Python 3",
   "language": "python",
   "name": "python3"
  },
  "language_info": {
   "codemirror_mode": {
    "name": "ipython",
    "version": 3
   },
   "file_extension": ".py",
   "mimetype": "text/x-python",
   "name": "python",
   "nbconvert_exporter": "python",
   "pygments_lexer": "ipython3",
   "version": "3.6.0"
  }
 },
 "nbformat": 4,
 "nbformat_minor": 2
}
